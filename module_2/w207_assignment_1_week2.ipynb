{
 "cells": [
  {
   "cell_type": "markdown",
   "metadata": {
    "id": "rHLcriKWLRe4"
   },
   "source": [
    "# Assignment 1"
   ]
  },
  {
   "cell_type": "markdown",
   "metadata": {},
   "source": [
    "### <span style=\"color:chocolate\"> Submission requirements </span>\n",
    "\n",
    "Your work will not be graded if your notebook doesn't include output. In other words, <span style=\"color:red\"> make sure to rerun your notebook before submitting to Gradescope </span> (Note: if you are using Google Colab: go to Edit > Notebook Settings  and uncheck Omit code cell output when saving this notebook, otherwise the output is not printed).\n",
    "\n",
    "Additional points may be deducted if these requirements are not met:\n",
    "\n",
    "    \n",
    "* Comment your code;\n",
    "* Each graph should have a title, labels for each axis, and (if needed) a legend. Each graph should be understandable on its own;\n",
    "* Try and minimize the use of the global namespace (meaning, keep things inside functions).\n",
    "---"
   ]
  },
  {
   "cell_type": "markdown",
   "metadata": {},
   "source": [
    "### Import libraries"
   ]
  },
  {
   "cell_type": "code",
   "execution_count": 1,
   "metadata": {
    "id": "7X58hOMTUH-w"
   },
   "outputs": [],
   "source": [
    "import numpy as np\n",
    "from sklearn.model_selection import train_test_split\n",
    "import matplotlib.pyplot as plt"
   ]
  },
  {
   "cell_type": "markdown",
   "metadata": {},
   "source": [
    "### Define functions"
   ]
  },
  {
   "cell_type": "code",
   "execution_count": 2,
   "metadata": {},
   "outputs": [],
   "source": [
    "def create_1d_data(num_examples, w, b, bound):\n",
    "  \"\"\"Create X, Y data with a linear relationship with added noise.\n",
    "\n",
    "  Args:\n",
    "    num_examples: number of examples to generate\n",
    "    w: desired slope\n",
    "    b: desired intercept\n",
    "    bound: lower and upper boundary of the data interval\n",
    "\n",
    "  Returns:\n",
    "    X and Y with shape (num_examples)\n",
    "  \"\"\"\n",
    "  np.random.seed(4)  # consistent random number generation\n",
    "  X = np.arange(num_examples)\n",
    "  deltas = np.random.uniform(low=-bound, high=bound, size=X.shape) # added noise\n",
    "  Y = b + deltas + w * X\n",
    "\n",
    "  return X, Y\n"
   ]
  },
  {
   "cell_type": "markdown",
   "metadata": {},
   "source": [
    "---\n",
    "### Step 1: Data ingestion"
   ]
  },
  {
   "cell_type": "markdown",
   "metadata": {
    "id": "xbCRG2-uUKCT"
   },
   "source": [
    "Supervised learning is all about learning to make predictions: given an input $x$ (e.g. home square footage), can we produce an output $\\hat{y}$ (e.g. estimated value) as close to the actual observed output $y$ (e.g. sale price) as possible. Note that the \"hat\" above $y$ is used to denote an estimated or predicted value.\n",
    "\n",
    "Let's start by generating some artificial data. We'll create a vector of inputs, $X$, and a corresponding vector of target outputs $Y$. In general, we'll refer to invidual examples with a lowercase ($x$), and a vector or matrix containing multiple examples with a capital ($X$)."
   ]
  },
  {
   "cell_type": "markdown",
   "metadata": {},
   "source": [
    "### <span style=\"color:chocolate\">Exercise 1:</span> Create data (10 points)"
   ]
  },
  {
   "cell_type": "markdown",
   "metadata": {},
   "source": [
    "Create artificial data using the function <span style=\"color:chocolate\">create_1d_data()</span> defined at the top of this notebook. Set the following argument values:\n",
    "- number of examples = 70;\n",
    "- slope (w) = 2;\n",
    "- intercept (b) = 1;\n",
    "- bound = 1.\n",
    "\n",
    "Denote the output by X and Y. Print the shape and the first 10 elements for each object."
   ]
  },
  {
   "cell_type": "code",
   "execution_count": 3,
   "metadata": {},
   "outputs": [
    {
     "name": "stdout",
     "output_type": "stream",
     "text": [
      "First 10 elements of X\n",
      " [0 1 2 3 4 5 6 7 8 9]\n",
      "Shape of X (70,)\n",
      "**************************************************\n",
      "First 10 elements of Y\n",
      " [ 1.93405968  3.0944645   5.94536872  7.42963199  9.39545765 10.43217899\n",
      " 13.95254891 14.01246051 16.50596472 18.86958306]\n",
      "Shape of Y (70,)\n"
     ]
    }
   ],
   "source": [
    "# YOUR CODE HERE\n",
    "\n",
    "# Create the (X, Y) tuple using the function given \n",
    "X, Y = create_1d_data(\n",
    "    num_examples=70,\n",
    "    w=2,\n",
    "    b=1,\n",
    "    bound=1\n",
    ")\n",
    "\n",
    "# Print out X\n",
    "print(\"First 10 elements of X\\n\", X[:10])\n",
    "print(\"Shape of X\", X.shape)\n",
    "\n",
    "print(50*\"*\")\n",
    "\n",
    "# Print out Y\n",
    "print(\"First 10 elements of Y\\n\", Y[:10])\n",
    "print(\"Shape of Y\", Y.shape)"
   ]
  },
  {
   "cell_type": "markdown",
   "metadata": {},
   "source": [
    "---\n",
    "### Step 2: Data preprocessing"
   ]
  },
  {
   "cell_type": "markdown",
   "metadata": {},
   "source": [
    "Given the simplicity of the data (just one feature in X), our sole task here is to divide the data into training and test sets."
   ]
  },
  {
   "cell_type": "markdown",
   "metadata": {},
   "source": [
    "### <span style=\"color:chocolate\">Exercise 2:</span> Data splits (10 points)"
   ]
  },
  {
   "cell_type": "markdown",
   "metadata": {},
   "source": [
    "Using the <span style=\"color:chocolate\">train_test_split()</span> method available in scikit-learn:\n",
    "1. Split the (X,Y) data into training and test paritions by setting test_size=0.3 and random_state=1234. All the other arguments of the method are set to default values. Name the resulting arrays X_train, X_test, Y_train, Y_test;\n",
    "2. Print the shape of each array."
   ]
  },
  {
   "cell_type": "code",
   "execution_count": 4,
   "metadata": {},
   "outputs": [
    {
     "name": "stdout",
     "output_type": "stream",
     "text": [
      "Shape of X_train: (49,)\n",
      "**************************************************\n",
      "Shape of X_test: (21,)\n",
      "**************************************************\n",
      "Shape of Y_train: (49,)\n",
      "**************************************************\n",
      "Shape of Y_test: (21,)\n"
     ]
    }
   ],
   "source": [
    "# YOUR CODE HERE\n",
    "\n",
    "# Split data\n",
    "X_train, X_test, Y_train, Y_test = train_test_split(\n",
    "    X, Y, \n",
    "    test_size=0.3,\n",
    "    random_state=1234\n",
    ")\n",
    "\n",
    "# Print out shapes\n",
    "print(\"Shape of X_train:\", X_train.shape)\n",
    "print(50*\"*\")\n",
    "\n",
    "print(\"Shape of X_test:\", X_test.shape)\n",
    "print(50*\"*\")\n",
    "\n",
    "print(\"Shape of Y_train:\", Y_train.shape)\n",
    "print(50*\"*\")\n",
    "\n",
    "print(\"Shape of Y_test:\", Y_test.shape)\n"
   ]
  },
  {
   "cell_type": "markdown",
   "metadata": {},
   "source": [
    "---\n",
    "### Step 3: Exploratory data analysis (EDA)"
   ]
  },
  {
   "cell_type": "markdown",
   "metadata": {},
   "source": [
    "EDA helps us to gain insights into the distribution and characteristics of the dataset we are dealing with. \n",
    "This understanding is fundamental for making informed decisions regarding:\n",
    "- data cleaning;\n",
    "- feature selection;\n",
    "- model building;\n",
    "- model evaluation, etc."
   ]
  },
  {
   "cell_type": "markdown",
   "metadata": {},
   "source": [
    "### <span style=\"color:chocolate\">Exercise 3:</span> Plots (10 points)"
   ]
  },
  {
   "cell_type": "markdown",
   "metadata": {},
   "source": [
    "1. Generate a scatter plot displaying the X_train data along the x-axis and the Y_train data along the y-axis, ensuring clear labeling of both axes. Add a title \"Exploratory Data Analysis: Training Data\" and a legend \"observed training data\" to the plot;\n",
    "2. Enhance the plot by incorporating a vertical red line to denote the mean value of X_train. Accompany it with a legend clarifying the meaning of the line and the mean value of X_train."
   ]
  },
  {
   "cell_type": "code",
   "execution_count": 5,
   "metadata": {},
   "outputs": [
    {
     "name": "stdout",
     "output_type": "stream",
     "text": [
      "mean of X_train: 34.61224489795919\n"
     ]
    },
    {
     "data": {
      "text/plain": [
       "<matplotlib.legend.Legend at 0x78b084178860>"
      ]
     },
     "execution_count": 5,
     "metadata": {},
     "output_type": "execute_result"
    },
    {
     "data": {
      "image/png": "[encoded data removed]",
      "text/plain": [
       "<Figure size 640x480 with 1 Axes>"
      ]
     },
     "metadata": {},
     "output_type": "display_data"
    }
   ],
   "source": [
    "# YOUR CODE HERE\n",
    "\n",
    "X_mean = np.mean(X_train)\n",
    "print(\"mean of X_train:\", X_mean)\n",
    "\n",
    "fig, ax = plt.subplots()\n",
    "ax.scatter(X_train, Y_train, \n",
    "           color='purple',\n",
    "           label=\"Observed training data\")\n",
    "\n",
    "ax.axvline(x=X_mean, color='red', linestyle='--', label=f'Mean of X ={X_mean:.1f}')\n",
    "\n",
    "ax.set_title('Exploratory Data Analysis: Training Data', \n",
    "             fontsize=14,\n",
    "             fontweight='bold')\n",
    "ax.set_xlabel('X_train', fontsize=12)\n",
    "ax.set_ylabel('Y_train', fontsize=12, rotation=90)\n",
    "ax.legend(title=\"Legend\", \n",
    "          loc=\"upper left\",\n",
    "          fontsize=11)\n",
    "#plt.scatter(X_train, Y_train)"
   ]
  },
  {
   "cell_type": "markdown",
   "metadata": {},
   "source": [
    "---\n",
    "### Step 4: Modeling"
   ]
  },
  {
   "cell_type": "markdown",
   "metadata": {},
   "source": [
    "In this section, our objective is to propose models to describe the data generation process. Remember a model is a function that takes an input $x$ and produces a prediction $\\hat{y}$.\n",
    "\n",
    "Let's consider two possible models for this data:\n",
    "1. $M_1(x) = 5+x$ \n",
    "2. $M_2(x) = 1+2x$"
   ]
  },
  {
   "cell_type": "markdown",
   "metadata": {
    "id": "W6coKbXSpXOz"
   },
   "source": [
    "### <span style=\"color:chocolate\">Exercise 4:</span> Models for data (10 points)"
   ]
  },
  {
   "cell_type": "markdown",
   "metadata": {},
   "source": [
    "1. Compute the predictions of models $M_1$ and $M_2$ for the values in X_train. These predictions should be vectors of the same shape as Y_train. Call these predictions M1_hat_train and M2_hat_train. Hint: the \"learned\" parameters are alredy provided to you;\n",
    "2. Plot the prediction lines of these two models overlayed on the observed data (X_train, Y_train). Note: you will generate only one plot. Make sure to include axes names, titles and legend. "
   ]
  },
  {
   "cell_type": "code",
   "execution_count": 6,
   "metadata": {
    "id": "AHIY5kNXUIAP"
   },
   "outputs": [
    {
     "data": {
      "text/plain": [
       "Text(0, 0.5, 'Observed/Predicted Output')"
      ]
     },
     "execution_count": 6,
     "metadata": {},
     "output_type": "execute_result"
    },
    {
     "data": {
      "image/png": "[encoded data removed]",
      "text/plain": [
       "<Figure size 640x480 with 1 Axes>"
      ]
     },
     "metadata": {},
     "output_type": "display_data"
    }
   ],
   "source": [
    "# YOUR CODE HERE\n",
    "\n",
    "#\n",
    "def M1(feature):\n",
    "    \"\"\" \n",
    "    Reture predicted value as an nd numpy array from model 1\n",
    "    Arg: a (n,) numpy array\n",
    "    \"\"\"\n",
    "    return 5 + feature\n",
    "\n",
    "def M2(feature):\n",
    "    \"\"\" \n",
    "    Reture predicted value as an nd numpy array from model 2\n",
    "    Arg: a (n,) numpy array\n",
    "    \"\"\"\n",
    "    return 1 + 2 * feature\n",
    "\n",
    "\n",
    "# M1_hat_train = 5 + 1 * X_train\n",
    "M1_hat_train = M1(X_train)\n",
    "#\n",
    "# M2_hat_train = 1 + 2 * X_train\n",
    "M2_hat_train = M2(X_train)\n",
    "\n",
    "fig, ax = plt.subplots()\n",
    "ax.plot(X_train, M1_hat_train,\n",
    "        label=\"Model 1\")\n",
    "ax.plot(X_train, M2_hat_train,\n",
    "        label=\"Model 2\")\n",
    "ax.scatter(X_train, Y_train, \n",
    "           color='purple',\n",
    "           label='Observed training data')\n",
    "\n",
    "ax.legend(loc=\"upper left\")\n",
    "\n",
    "ax.set_title(\"Two Proposed Models\",\n",
    "             fontweight=\"bold\")\n",
    "ax.set_xlabel(\"Input: X_train\")\n",
    "ax.set_ylabel(\"Observed/Predicted Output\")"
   ]
  },
  {
   "cell_type": "markdown",
   "metadata": {},
   "source": [
    "---\n",
    "### Step 5: Evaluation and Generalization"
   ]
  },
  {
   "cell_type": "markdown",
   "metadata": {
    "id": "NH-0soZiWx9x"
   },
   "source": [
    "How good are our models? Intuitively, the better the model, the more closely it fits the data we have. That is, for each $x$, we'll compare $y$, the true value, with $\\hat{y}$, the predicted value. This comparison is often called the *loss* or the *error*. One common such comparison is *squared error*: $(y-\\hat{y})^2$. Averaging over all our data points, we get the *mean squared error*:\n",
    "\n",
    "\\begin{equation}\n",
    "\\textit{MSE} = \\frac{1}{n} \\sum_{y_i \\in Y}(y_i - \\hat{y}_i)^2\n",
    "\\end{equation}"
   ]
  },
  {
   "cell_type": "markdown",
   "metadata": {},
   "source": [
    "How well do our models generalize? The test dataset serves as a proxy for unseen data in real-world applications. By evaluating the model on the test data, you can assess its ability to generalize beyond the training data. This ensures that the model can make accurate predictions on new data it hasn't seen during training."
   ]
  },
  {
   "cell_type": "markdown",
   "metadata": {
    "id": "_AyY2DpxYLI0"
   },
   "source": [
    "### <span style=\"color:chocolate\">Exercise 5:</span> Computing MSE (20 points)"
   ]
  },
  {
   "cell_type": "markdown",
   "metadata": {},
   "source": [
    "1. Write a function for computing the MSE metric based on the provided definition;\n",
    "2. Utilizing this function, calculate the training data MSE for the two models, $M_1$ and $M_2$.\n",
    "3. Comment on which model fits the training data better."
   ]
  },
  {
   "cell_type": "code",
   "execution_count": 7,
   "metadata": {},
   "outputs": [
    {
     "name": "stdout",
     "output_type": "stream",
     "text": [
      "[3 2]\n"
     ]
    },
    {
     "data": {
      "text/plain": [
       "np.float64(6.5)"
      ]
     },
     "execution_count": 7,
     "metadata": {},
     "output_type": "execute_result"
    }
   ],
   "source": [
    "type(Y_train)\n",
    "M1_hat_train.shape\n",
    "\n",
    "a = np.array([1, 3])\n",
    "\n",
    "b = np.array([4, 5])\n",
    "\n",
    "print((b - a))\n",
    "(np.square(b - a).sum()) / len(b)\n"
   ]
  },
  {
   "cell_type": "code",
   "execution_count": 8,
   "metadata": {
    "id": "uCeAfI5mW9sg"
   },
   "outputs": [
    {
     "data": {
      "text/plain": [
       "np.float64(1358.2515152570322)"
      ]
     },
     "execution_count": 8,
     "metadata": {},
     "output_type": "execute_result"
    }
   ],
   "source": [
    "# YOUR CODE HERE\n",
    "def MSE(true_values, predicted_values):\n",
    "  \"\"\"Return the MSE between true_values and predicted values.\n",
    "  true_values: a n by 1 nd numpy array\n",
    "  predicted_values: a n by 1 nd numpy array\n",
    "  \"\"\"\n",
    "  return (np.square(predicted_values - true_values).sum()) / len(true_values)\n",
    "MSE(Y_train, M1_hat_train)"
   ]
  },
  {
   "cell_type": "code",
   "execution_count": 9,
   "metadata": {},
   "outputs": [
    {
     "name": "stdout",
     "output_type": "stream",
     "text": [
      "MSE for model 1: 1358.25\n",
      "MSE for model 2: 0.31\n"
     ]
    }
   ],
   "source": [
    "# YOUR CODE HERE\n",
    "\n",
    "# MSE for M1\n",
    "M1_MSE = MSE(true_values=Y_train, predicted_values=M1_hat_train)\n",
    "print(\"MSE for model 1: {:.2f}\".format(M1_MSE))\n",
    "# MSE for M2\n",
    "M2_MSE = MSE(true_values=Y_train, predicted_values=M2_hat_train)\n",
    "print(\"MSE for model 2: {:.2f}\".format(M2_MSE))\n",
    "\n",
    "# Please see the markdown cell below for comment"
   ]
  },
  {
   "cell_type": "markdown",
   "metadata": {},
   "source": [
    "### Exercise 5 comment\n",
    "Model 2's mean squared error is significantly smaller than that of Model 1's, as shown in the above print outs. \n",
    "\n",
    "Base on MSE from the training data, I'd choose Model 2 **M2**."
   ]
  },
  {
   "cell_type": "markdown",
   "metadata": {},
   "source": [
    "### <span style=\"color:chocolate\">Exercise 6:</span> Generalization (15 points)"
   ]
  },
  {
   "cell_type": "markdown",
   "metadata": {},
   "source": [
    "1. Compute the predictions of models $M_1$ and $M_2$ for the values in X_test. These predictions should be vectors of the same shape as Y_test. Call these predictions M1_hat_test and M2_hat_test.\n",
    "2. Calculate the test data MSE for the two models, $M_1$ and $M_2$, using the <span style=\"color:chocolate\">MSE()</span> function defined above.\n",
    "3. Does the model you chose in Exercise 5 generalize well?"
   ]
  },
  {
   "cell_type": "code",
   "execution_count": 10,
   "metadata": {},
   "outputs": [
    {
     "name": "stdout",
     "output_type": "stream",
     "text": [
      "M1 MSE using test data:\n",
      "1300.10\n",
      "M2 MSE using test data:\n",
      "0.34\n"
     ]
    }
   ],
   "source": [
    "# YOUR CODE HERE\n",
    "\n",
    "# Compute M1 predicted values using X_test\n",
    "M1_hat_test = M1(X_test)\n",
    "M1_hat_test.shape\n",
    "\n",
    "# Compute M2 predicted values using X_test\n",
    "M2_hat_test = M2(X_test)\n",
    "M2_hat_test\n",
    "\n",
    "# Compute MSE\n",
    "# M1 MSE\n",
    "M1_MSE_test = MSE(Y_test, M1_hat_test)\n",
    "print(f\"M1 MSE using test data:\\n{M1_MSE_test:.2f}\")\n",
    "# M2 MSE\n",
    "M2_MSE_test = MSE(Y_test, M2_hat_test)\n",
    "print(f\"M2 MSE using test data:\\n{M2_MSE_test:.2f}\")\n",
    "\n",
    "# Please see the markdown cell below for comment"
   ]
  },
  {
   "cell_type": "markdown",
   "metadata": {},
   "source": [
    "### Exercise 6 Comment\n",
    "\n",
    "From Exercise 5 I chose **M2** because its (much) smaller MSE. **M2** **generalizes very well** in testing data as **M2** again has much smaller MSE compared with the alternative. \n",
    "\n",
    "For the chosen M2, The test MSE (0.34) is only moderately bigger than training MSE (0.31)"
   ]
  },
  {
   "cell_type": "markdown",
   "metadata": {},
   "source": [
    "### <span style=\"color:chocolate\">Exercise 7:</span> More features (25 points)"
   ]
  },
  {
   "cell_type": "markdown",
   "metadata": {},
   "source": [
    "1. Fit an 8-th degree polynomial to (X_train, Y_train). Call the predictions of this model M3_hat_train. Hint: see <span style=\"color:chocolate\">np.polyfit()</span> for details.\n",
    "2. Plot the prediction lines of the $M_3$ overlayed on the observed data (X_train, Y_train). Note: you will generate only one plot. Make sure to include axes names, titles and legend. \n",
    "3. Calculate the training data MSE for the $M_3$ model using the <span style=\"color:chocolate\">MSE()</span> function defined above.\n",
    "4. Does model $M_3$ do better than your chosen model in Exercise 5 at predicting the labels for new unseen data? Hint: your new unseen data is the test dataset."
   ]
  },
  {
   "cell_type": "code",
   "execution_count": 12,
   "metadata": {},
   "outputs": [
    {
     "name": "stdout",
     "output_type": "stream",
     "text": [
      "**************************************************\n",
      "The fitted coefficients for 8th degree polynomial:\n",
      "[ 3.21841468e-12 -9.45992842e-10  1.13710297e-07 -7.26116579e-06\n",
      "  2.68776996e-04 -5.91740558e-03  7.55359163e-02  1.51185277e+00\n",
      "  1.98163691e+00]\n",
      "**************************************************\n"
     ]
    },
    {
     "data": {
      "image/png": "[encoded data removed]",
      "text/plain": [
       "<Figure size 640x480 with 1 Axes>"
      ]
     },
     "metadata": {},
     "output_type": "display_data"
    },
    {
     "name": "stdout",
     "output_type": "stream",
     "text": [
      "**************************************************\n",
      "Training data MSE: 0.27\n",
      "**************************************************\n",
      "For M3:\n",
      "The training MSE is 0.27\n",
      "The test MSE is 0.40\n",
      "Please see comment in the markdown cell below.\n"
     ]
    }
   ],
   "source": [
    "# YOUR CODE HERE\n",
    "\n",
    "# Task 1\n",
    "# Fit 8th polynomial\n",
    "coefficients = np.polyfit(X_train, Y_train, deg=8)\n",
    "print(50*\"*\")\n",
    "print(f\"The fitted coefficients for 8th degree polynomial:\\n{coefficients}\")\n",
    "poly_function = np.poly1d(coefficients)\n",
    "poly_function(X_train)\n",
    "\n",
    "# Define a funciton to compute M3 prediction from input\n",
    "def M3(feature):\n",
    "    poly_function = np.poly1d(coefficients)\n",
    "    return poly_function(feature)\n",
    "\n",
    "M3_hat_train = M3(X_train)\n",
    "\n",
    "\n",
    "# Task 2: Plot\n",
    "fig, ax = plt.subplots()\n",
    "\n",
    "ax.scatter(X_train, Y_train,\n",
    "           label=\"Observed Training Data\")\n",
    "ax.plot(X_train, M3_hat_train,\n",
    "        color=\"purple\",\n",
    "        label=\"Prediction\")\n",
    "\n",
    "ax.set_title(\"Model 3 Performance\")\n",
    "ax.set_xlabel(\"X_train\")\n",
    "ax.set_ylabel(\"Predicted/observed Y\")\n",
    "ax.legend(loc=\"upper left\")\n",
    "print(50*\"*\")\n",
    "plt.show()\n",
    "\n",
    "# Task 3: MSE for training data\n",
    "MSE_M3_train = MSE(true_values=Y_train, predicted_values=M3_hat_train)\n",
    "print(50*\"*\")\n",
    "print(f\"Training data MSE: {MSE_M3_train:.2f}\")\n",
    "\n",
    "# Compute MSE for unseen (test) data\n",
    "M3_hat_test = M3(X_test)\n",
    "MSE_M3_test = MSE(true_values=Y_test, predicted_values=M3_hat_test)\n",
    "\n",
    "# Print out\n",
    "print(50*\"*\")\n",
    "print(\"For M3:\")\n",
    "print(f\"The training MSE is {MSE_M3_train:.2f}\")\n",
    "print(f\"The test MSE is {MSE_M3_test:.2f}\")\n",
    "print(\"Please see comment in the markdown cell below.\")\n"
   ]
  },
  {
   "cell_type": "markdown",
   "metadata": {},
   "source": [
    "### Exercise 7 comment\n",
    "\n",
    "- With **training data**, M3 (MSE 0.27) performs better than M2 (MSE 0.31).\n",
    "- However, **M3 overfits** the data. With **unseen** (test) data, MSE of M3 (0.4) deteriorates a great deal. \n",
    "- This indicates that **M3 does not generalize as well as M2**. "
   ]
  },
  {
   "cell_type": "markdown",
   "metadata": {},
   "source": [
    "----\n",
    "#### <span style=\"color:chocolate\">Additional practice question</span> (not graded)"
   ]
  },
  {
   "cell_type": "markdown",
   "metadata": {},
   "source": [
    "Would you perform EDA on the test dataset?\n",
    "1. Why or why not?\n",
    "2. Provide a link to a paper/article to support your answer."
   ]
  },
  {
   "cell_type": "markdown",
   "metadata": {},
   "source": [
    "# YOUR ANSWER HERE\n",
    "\n",
    "1. No. EDA on test data defeats the purpose of train-test split and could also potentially lead the practioner toward overfitting.\n",
    "2. Link: https://www.stat.cmu.edu/~hseltman/309/Book/chapter4.pdf\n"
   ]
  },
  {
   "cell_type": "markdown",
   "metadata": {},
   "source": []
  }
 ],
 "metadata": {
  "accelerator": "GPU",
  "colab": {
   "collapsed_sections": [
    "copyright",
    "xxOhpvdW6TbX",
    "exercise-1-key-1",
    "43ZTSJEc526U",
    "exercise-5-key-1",
    "ubHispCAA_5u",
    "exercise-6-key-1",
    "5p1IvWjfEjqm",
    "exercise-9-key-1"
   ],
   "name": "01 Introduction.ipynb",
   "private_outputs": true,
   "provenance": []
  },
  "kernelspec": {
   "display_name": "Python 3",
   "language": "python",
   "name": "python3"
  },
  "language_info": {
   "codemirror_mode": {
    "name": "ipython",
    "version": 3
   },
   "file_extension": ".py",
   "mimetype": "text/x-python",
   "name": "python",
   "nbconvert_exporter": "python",
   "pygments_lexer": "ipython3",
   "version": "3.12.1"
  }
 },
 "nbformat": 4,
 "nbformat_minor": 4
}
