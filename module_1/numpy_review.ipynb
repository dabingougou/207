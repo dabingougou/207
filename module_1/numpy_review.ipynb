{
 "cells": [
  {
   "cell_type": "markdown",
   "id": "68d2f193",
   "metadata": {},
   "source": [
    "# Assignment 0"
   ]
  },
  {
   "cell_type": "markdown",
   "id": "231ec299",
   "metadata": {},
   "source": [
    "### <span style=\"color:chocolate\"> Submission requirements </span>\n",
    "\n",
    "Your work will not be graded if your notebook doesn't include output. In other words, <span style=\"color:red\"> make sure to rerun your notebook before submitting to Gradescope </span> (Note: if you are using Google Colab: go to Edit > Notebook Settings  and uncheck Omit code cell output when saving this notebook, otherwise the output is not printed).\n",
    "\n",
    "Additional points may be deducted if these requirements are not met:\n",
    "\n",
    "    \n",
    "* Comment your code;\n",
    "* Each graph should have a title, labels for each axis, and (if needed) a legend. Each graph should be understandable on its own;\n",
    "* Try and minimize the use of the global namespace (meaning, keep things inside functions).\n",
    "---"
   ]
  },
  {
   "cell_type": "markdown",
   "id": "aae36a3a",
   "metadata": {},
   "source": [
    "### Import libraries"
   ]
  },
  {
   "cell_type": "code",
   "execution_count": 1,
   "id": "1d2c9a02",
   "metadata": {},
   "outputs": [],
   "source": [
    "import numpy as np\n",
    "np.random.seed(seed=1)"
   ]
  },
  {
   "cell_type": "markdown",
   "id": "8fb0f91b",
   "metadata": {},
   "source": [
    "---\n",
    "### <span style=\"color:chocolate\">Exercise 1:</span> Homogenous data types (10 points)\n",
    "\n",
    "1. Create a numpy array (my_array1) containing only integer values. Print the shape of the array and the type of its elements;\n",
    "2. Create another numpy array (my_array2) containing a mix of integer and string values. Print the shape of the array and the type of its elements. Comment on the type of its elements."
   ]
  },
  {
   "cell_type": "code",
   "execution_count": 12,
   "id": "49c4add6",
   "metadata": {},
   "outputs": [
    {
     "name": "stdout",
     "output_type": "stream",
     "text": [
      "my_array1 dimension: (2, 3, 4)\n",
      "my_array1 contains datatype: int64\n",
      "my_array2 shape: (9,)\n",
      "my_array2 elements data type: <U8\n",
      "[[[54 94 34  3]\n",
      "  [85 84 49 55]\n",
      "  [33 29 56 83]]\n",
      "\n",
      " [[32 29 95 75]\n",
      "  [ 9 33  9 85]\n",
      "  [78 51 80 42]]]\n"
     ]
    },
    {
     "data": {
      "text/plain": [
       "array([54, 94, 34,  3])"
      ]
     },
     "execution_count": 12,
     "metadata": {},
     "output_type": "execute_result"
    }
   ],
   "source": [
    "# YOUR CODE HERE\n",
    "\n",
    "# Creating the first array\n",
    "my_array1 = np.random.randint(1, 100, size=(2, 3, 4))\n",
    "\n",
    "# Print out shape\n",
    "print(f\"my_array1 dimension: {my_array1.shape}\")\n",
    "# Print out datatype of the elements\n",
    "print(f\"my_array1 contains datatype: {my_array1.dtype}\")\n",
    "\n",
    "text = \"I am enrolled in section 1 of DATASCI 207.\"\n",
    "my_array2 = np.array(text.split())\n",
    "print(f\"my_array2 shape: {my_array2.shape}\")\n",
    "print(f\"my_array2 elements data type: {my_array2.dtype}\")\n"
   ]
  },
  {
   "cell_type": "markdown",
   "id": "8becfbd2",
   "metadata": {},
   "source": [
    "---\n",
    "#### <span style=\"color:chocolate\">Exercise 2:</span> The size attribute (10 points)\n",
    "\n",
    "Create a numpy array (my_array3) and print its shape, size, and data type. What does size represent?"
   ]
  },
  {
   "cell_type": "code",
   "execution_count": 13,
   "id": "8733dbc0",
   "metadata": {},
   "outputs": [
    {
     "name": "stdout",
     "output_type": "stream",
     "text": [
      "my_array3 shape: (2, 3, 5)\n",
      "my_array3 elements data type: int64\n",
      "my_array3 size: 30\n",
      "\n",
      "Please see below markdown cell for comment on the size attribute.\n"
     ]
    }
   ],
   "source": [
    "# YOUR CODE HERE\n",
    "\n",
    "# Creating an array of random integers\n",
    "my_array3 = np.random.randint(1, 100, size=(2, 3, 5))\n",
    "\n",
    "# Print out shape, datatype of elements, and size\n",
    "print(f\"my_array3 shape: {my_array3.shape}\")\n",
    "print(f\"my_array3 elements data type: {my_array3.dtype}\")\n",
    "print(f\"my_array3 size: {my_array3.size}\\n\")\n",
    "\n",
    "# the \"size\" attribute\n",
    "print(\"Please see below markdown cell for comment on the size attribute.\")\n"
   ]
  },
  {
   "cell_type": "markdown",
   "id": "3583397f",
   "metadata": {},
   "source": [
    "### What does the size attribute represent? \n",
    "It represents the **number of elements** of the array, **not the dimension** as I initially thought."
   ]
  },
  {
   "cell_type": "markdown",
   "id": "89731f88",
   "metadata": {},
   "source": [
    "---\n",
    "#### <span style=\"color:chocolate\">Exercise 3:</span> Tabular data layout (10 points)"
   ]
  },
  {
   "cell_type": "markdown",
   "id": "89c8c4d9",
   "metadata": {},
   "source": [
    "Create a tabular data layout using the numpy method <span style=\"color:chocolate\">np.random.random()</span>, where:\n",
    "* the first input is num_samples, and\n",
    "* the second input is num_features. \n",
    "\n",
    "Print the shape of the array."
   ]
  },
  {
   "cell_type": "code",
   "execution_count": 14,
   "id": "dcabc0b0",
   "metadata": {},
   "outputs": [
    {
     "name": "stdout",
     "output_type": "stream",
     "text": [
      "The dimension is: 2-d with number of rows and cols given by (100, 17).\n"
     ]
    }
   ],
   "source": [
    "# already defined first and second inputs\n",
    "num_samples = 100\n",
    "num_features = 17\n",
    "\n",
    "# YOUR CODE HERE\n",
    "tabular_data = np.random.random(size=(num_samples, num_features))\n",
    "print(f\"The dimension is: 2-d with number of rows and cols given by {tabular_data.shape}.\")\n",
    "\n"
   ]
  },
  {
   "cell_type": "markdown",
   "id": "9ea1e400",
   "metadata": {},
   "source": [
    "---\n",
    "#### <span style=\"color:chocolate\">Exercise 4:</span> Image data layout (10 points)"
   ]
  },
  {
   "cell_type": "markdown",
   "id": "7c5b220a",
   "metadata": {},
   "source": [
    "Create an image data layout using the numpy method <span style=\"color:chocolate\">np.random.random()</span>, where:\n",
    "\n",
    "* the first input is num_images;\n",
    "* the second input is num_rows;\n",
    "* the third input is num_cols;\n",
    "* the fourth input is num_channels.\n",
    "\n",
    "Print the shape of the array."
   ]
  },
  {
   "cell_type": "code",
   "execution_count": null,
   "id": "9b371f29",
   "metadata": {},
   "outputs": [
    {
     "name": "stdout",
     "output_type": "stream",
     "text": [
      "The shape of the array is: (100, 256, 256, 3)\n"
     ]
    },
    {
     "data": {
      "text/plain": [
       "array([[[[0.37928503, 0.57181449, 0.20789363],\n",
       "         [0.14708705, 0.73961762, 0.76137301],\n",
       "         [0.0552172 , 0.29176576, 0.9360238 ],\n",
       "         ...,\n",
       "         [0.50996156, 0.90370475, 0.17206712],\n",
       "         [0.33378112, 0.71285964, 0.95439188],\n",
       "         [0.36734664, 0.92167617, 0.36340469]],\n",
       "\n",
       "        [[0.83792537, 0.8520321 , 0.16376693],\n",
       "         [0.54386891, 0.55298431, 0.26368089],\n",
       "         [0.95801242, 0.87645381, 0.62087411],\n",
       "         ...,\n",
       "         [0.87611395, 0.14536706, 0.00954818],\n",
       "         [0.9295326 , 0.22229241, 0.0113653 ],\n",
       "         [0.16451943, 0.33675249, 0.2505387 ]],\n",
       "\n",
       "        [[0.81581605, 0.18965131, 0.89216353],\n",
       "         [0.82936101, 0.43426261, 0.38542527],\n",
       "         [0.70485152, 0.82385492, 0.35043025],\n",
       "         ...,\n",
       "         [0.77489365, 0.11520429, 0.47929568],\n",
       "         [0.358636  , 0.29638066, 0.06260081],\n",
       "         [0.15302018, 0.80508019, 0.22153236]],\n",
       "\n",
       "        ...,\n",
       "\n",
       "        [[0.91773108, 0.802814  , 0.48371075],\n",
       "         [0.7733455 , 0.00988113, 0.67624776],\n",
       "         [0.08917093, 0.74629882, 0.74283991],\n",
       "         ...,\n",
       "         [0.65686116, 0.91890352, 0.88558806],\n",
       "         [0.32429477, 0.39817956, 0.39173198],\n",
       "         [0.96773851, 0.5993275 , 0.60390813]],\n",
       "\n",
       "        [[0.26771666, 0.49475429, 0.19199973],\n",
       "         [0.51388065, 0.13180917, 0.35119699],\n",
       "         [0.62448956, 0.44035545, 0.20731905],\n",
       "         ...,\n",
       "         [0.14571705, 0.45077812, 0.62468979],\n",
       "         [0.65700508, 0.22869598, 0.55415028],\n",
       "         [0.35265907, 0.25715743, 0.26692578]],\n",
       "\n",
       "        [[0.63103358, 0.82339048, 0.26970436],\n",
       "         [0.56060556, 0.38964673, 0.70416153],\n",
       "         [0.93443818, 0.6095176 , 0.71161489],\n",
       "         ...,\n",
       "         [0.63154754, 0.27306941, 0.43266608],\n",
       "         [0.9988902 , 0.34637668, 0.30662742],\n",
       "         [0.25389867, 0.38754366, 0.63541023]]],\n",
       "\n",
       "\n",
       "       [[[0.3084597 , 0.85102958, 0.48892965],\n",
       "         [0.54874419, 0.44888512, 0.29187901],\n",
       "         [0.76559797, 0.80514784, 0.64754383],\n",
       "         ...,\n",
       "         [0.68627027, 0.30719824, 0.35143033],\n",
       "         [0.01446821, 0.47586394, 0.84516389],\n",
       "         [0.95516075, 0.7986639 , 0.64755871]],\n",
       "\n",
       "        [[0.11442847, 0.55622302, 0.66306576],\n",
       "         [0.64217656, 0.48378994, 0.18980228],\n",
       "         [0.45293531, 0.78730507, 0.45906065],\n",
       "         ...,\n",
       "         [0.3443774 , 0.3379203 , 0.64282896],\n",
       "         [0.42650775, 0.71335866, 0.54543622],\n",
       "         [0.90929645, 0.35430628, 0.45035139]],\n",
       "\n",
       "        [[0.1607345 , 0.97829973, 0.10480758],\n",
       "         [0.17789992, 0.5289631 , 0.8928694 ],\n",
       "         [0.57892824, 0.70398102, 0.09215547],\n",
       "         ...,\n",
       "         [0.15879869, 0.78207773, 0.06448316],\n",
       "         [0.39431474, 0.32320318, 0.3114906 ],\n",
       "         [0.33473064, 0.50131056, 0.10381696]],\n",
       "\n",
       "        ...,\n",
       "\n",
       "        [[0.58363696, 0.05048138, 0.80709398],\n",
       "         [0.41710016, 0.10855714, 0.31413134],\n",
       "         [0.30946623, 0.98171329, 0.62238185],\n",
       "         ...,\n",
       "         [0.58284718, 0.51312622, 0.55464719],\n",
       "         [0.44242217, 0.43817364, 0.40661785],\n",
       "         [0.13263936, 0.60929562, 0.83403376]],\n",
       "\n",
       "        [[0.08189165, 0.71700412, 0.91393409],\n",
       "         [0.51000622, 0.46918107, 0.2835318 ],\n",
       "         [0.19002107, 0.18192097, 0.51379953],\n",
       "         ...,\n",
       "         [0.13706401, 0.81832816, 0.94653947],\n",
       "         [0.66329731, 0.11562684, 0.47663326],\n",
       "         [0.1045812 , 0.19940491, 0.36056906]],\n",
       "\n",
       "        [[0.66152928, 0.31119793, 0.90743215],\n",
       "         [0.03489203, 0.80906656, 0.19068201],\n",
       "         [0.066215  , 0.03941761, 0.98059779],\n",
       "         ...,\n",
       "         [0.17311063, 0.09987963, 0.37853711],\n",
       "         [0.94013427, 0.46450489, 0.03499343],\n",
       "         [0.6855931 , 0.39880409, 0.81445436]]],\n",
       "\n",
       "\n",
       "       [[[0.24808151, 0.5244718 , 0.96485894],\n",
       "         [0.75149331, 0.22663662, 0.82519077],\n",
       "         [0.85185667, 0.5973195 , 0.42425169],\n",
       "         ...,\n",
       "         [0.91125739, 0.26045554, 0.73408921],\n",
       "         [0.81639575, 0.43075443, 0.13966134],\n",
       "         [0.57779966, 0.60026732, 0.59319841]],\n",
       "\n",
       "        [[0.34648777, 0.50117596, 0.01000176],\n",
       "         [0.13961633, 0.93453696, 0.59446193],\n",
       "         [0.61112247, 0.23587557, 0.828168  ],\n",
       "         ...,\n",
       "         [0.45259341, 0.48144537, 0.01918121],\n",
       "         [0.47975896, 0.19981841, 0.01753685],\n",
       "         [0.89397382, 0.36137374, 0.86994405]],\n",
       "\n",
       "        [[0.62181838, 0.97086204, 0.11480317],\n",
       "         [0.95948391, 0.37423806, 0.26058804],\n",
       "         [0.26199386, 0.45983455, 0.42634375],\n",
       "         ...,\n",
       "         [0.24747835, 0.91503724, 0.8854135 ],\n",
       "         [0.78286074, 0.48310787, 0.49550824],\n",
       "         [0.45576639, 0.17332741, 0.83689127]],\n",
       "\n",
       "        ...,\n",
       "\n",
       "        [[0.35213302, 0.0287363 , 0.65373317],\n",
       "         [0.32293745, 0.26056022, 0.68351139],\n",
       "         [0.00205511, 0.89284397, 0.42284807],\n",
       "         ...,\n",
       "         [0.82894897, 0.9224763 , 0.66825137],\n",
       "         [0.71320401, 0.81943174, 0.88784732],\n",
       "         [0.06872881, 0.23247612, 0.63226724]],\n",
       "\n",
       "        [[0.62389581, 0.9612251 , 0.8989677 ],\n",
       "         [0.50303534, 0.22736334, 0.61087989],\n",
       "         [0.3933647 , 0.16668639, 0.46566877],\n",
       "         ...,\n",
       "         [0.13121218, 0.10919744, 0.37099856],\n",
       "         [0.58348339, 0.56678493, 0.37951817],\n",
       "         [0.41406696, 0.94249297, 0.48888926]],\n",
       "\n",
       "        [[0.17207592, 0.01927646, 0.71535214],\n",
       "         [0.50114509, 0.33099644, 0.64589455],\n",
       "         [0.79193493, 0.19680486, 0.57198274],\n",
       "         ...,\n",
       "         [0.52941972, 0.16387847, 0.55613556],\n",
       "         [0.25507115, 0.55033259, 0.92329958],\n",
       "         [0.64018582, 0.8258207 , 0.35427613]]],\n",
       "\n",
       "\n",
       "       ...,\n",
       "\n",
       "\n",
       "       [[[0.31938963, 0.82650407, 0.08271709],\n",
       "         [0.21947405, 0.77808982, 0.80022236],\n",
       "         [0.44761796, 0.16653935, 0.55166539],\n",
       "         ...,\n",
       "         [0.80233494, 0.56136609, 0.27973932],\n",
       "         [0.23616384, 0.74858993, 0.95862388],\n",
       "         [0.43747937, 0.81677256, 0.31298278]],\n",
       "\n",
       "        [[0.51202309, 0.99169566, 0.08531984],\n",
       "         [0.46104718, 0.91100037, 0.92521598],\n",
       "         [0.4417781 , 0.37866731, 0.67844862],\n",
       "         ...,\n",
       "         [0.08100552, 0.68213593, 0.23159522],\n",
       "         [0.39310988, 0.68535086, 0.36761156],\n",
       "         [0.15819068, 0.17656164, 0.68771598]],\n",
       "\n",
       "        [[0.89362455, 0.46731472, 0.97962581],\n",
       "         [0.27221525, 0.44986265, 0.36147961],\n",
       "         [0.70644646, 0.30147972, 0.42681098],\n",
       "         ...,\n",
       "         [0.39493116, 0.76289452, 0.688198  ],\n",
       "         [0.85838606, 0.05460175, 0.40749963],\n",
       "         [0.64652464, 0.70778188, 0.9394134 ]],\n",
       "\n",
       "        ...,\n",
       "\n",
       "        [[0.14677427, 0.80805654, 0.39127573],\n",
       "         [0.32382009, 0.32197787, 0.55790761],\n",
       "         [0.01590351, 0.29415737, 0.24854968],\n",
       "         ...,\n",
       "         [0.78745129, 0.69744558, 0.46580489],\n",
       "         [0.87347053, 0.85254695, 0.19711704],\n",
       "         [0.21812968, 0.51840206, 0.68210886]],\n",
       "\n",
       "        [[0.19878741, 0.79864152, 0.10100681],\n",
       "         [0.94674033, 0.74264392, 0.3205521 ],\n",
       "         [0.76780265, 0.48716506, 0.08849996],\n",
       "         ...,\n",
       "         [0.15356456, 0.67953141, 0.58556342],\n",
       "         [0.8246756 , 0.43060902, 0.79642159],\n",
       "         [0.70976642, 0.50382639, 0.10065171]],\n",
       "\n",
       "        [[0.70970763, 0.94215556, 0.24525831],\n",
       "         [0.6457331 , 0.9973983 , 0.80253289],\n",
       "         [0.30751554, 0.14749867, 0.74705715],\n",
       "         ...,\n",
       "         [0.47338506, 0.95471282, 0.16186099],\n",
       "         [0.42308087, 0.49764903, 0.17254226],\n",
       "         [0.69199337, 0.81569008, 0.31771122]]],\n",
       "\n",
       "\n",
       "       [[[0.7060944 , 0.38462665, 0.69339069],\n",
       "         [0.86706878, 0.74622843, 0.88578847],\n",
       "         [0.13475669, 0.08165601, 0.75327478],\n",
       "         ...,\n",
       "         [0.7273776 , 0.94601647, 0.26327488],\n",
       "         [0.74311123, 0.62156552, 0.44489433],\n",
       "         [0.91032381, 0.14467664, 0.7052344 ]],\n",
       "\n",
       "        [[0.34911477, 0.10097571, 0.28011661],\n",
       "         [0.48948754, 0.78556435, 0.16873052],\n",
       "         [0.72073649, 0.29850224, 0.57194595],\n",
       "         ...,\n",
       "         [0.81488297, 0.58660647, 0.02214455],\n",
       "         [0.61217645, 0.24170229, 0.46481621],\n",
       "         [0.69316887, 0.95249468, 0.96964815]],\n",
       "\n",
       "        [[0.53482107, 0.88073732, 0.00191709],\n",
       "         [0.450335  , 0.54117111, 0.03712226],\n",
       "         [0.43250554, 0.43532532, 0.82669096],\n",
       "         ...,\n",
       "         [0.49289192, 0.32298366, 0.24871201],\n",
       "         [0.89683681, 0.30928897, 0.2769823 ],\n",
       "         [0.53271846, 0.82909444, 0.51845134]],\n",
       "\n",
       "        ...,\n",
       "\n",
       "        [[0.27930683, 0.19999862, 0.85864768],\n",
       "         [0.50139674, 0.90978039, 0.68253429],\n",
       "         [0.2232484 , 0.48890505, 0.86481554],\n",
       "         ...,\n",
       "         [0.20455895, 0.07196607, 0.04482544],\n",
       "         [0.42240515, 0.0901582 , 0.10632193],\n",
       "         [0.50868137, 0.8206267 , 0.09008152]],\n",
       "\n",
       "        [[0.41185108, 0.8676447 , 0.7812402 ],\n",
       "         [0.44235317, 0.46443644, 0.87445968],\n",
       "         [0.94121996, 0.250673  , 0.96385969],\n",
       "         ...,\n",
       "         [0.11115288, 0.66983785, 0.1066568 ],\n",
       "         [0.46887925, 0.04767835, 0.48768617],\n",
       "         [0.08609761, 0.22972391, 0.73427439]],\n",
       "\n",
       "        [[0.45366259, 0.86571738, 0.69164382],\n",
       "         [0.37703441, 0.80248784, 0.28967326],\n",
       "         [0.90498772, 0.41794341, 0.48419025],\n",
       "         ...,\n",
       "         [0.40207737, 0.95676897, 0.44545874],\n",
       "         [0.70647472, 0.83073154, 0.36718817],\n",
       "         [0.76110014, 0.96487888, 0.54358465]]],\n",
       "\n",
       "\n",
       "       [[[0.16760128, 0.54026222, 0.29135464],\n",
       "         [0.98935163, 0.51283505, 0.84032853],\n",
       "         [0.52981564, 0.37571723, 0.21175642],\n",
       "         ...,\n",
       "         [0.19638616, 0.27344189, 0.55959701],\n",
       "         [0.56051949, 0.27830709, 0.69897908],\n",
       "         [0.79092917, 0.4658868 , 0.66366216]],\n",
       "\n",
       "        [[0.95601442, 0.43345682, 0.92826754],\n",
       "         [0.52067293, 0.9401218 , 0.93312692],\n",
       "         [0.51248311, 0.7196033 , 0.2002409 ],\n",
       "         ...,\n",
       "         [0.08212178, 0.67984923, 0.79236013],\n",
       "         [0.30689899, 0.39549687, 0.66120826],\n",
       "         [0.68200782, 0.54856418, 0.23203937]],\n",
       "\n",
       "        [[0.66902604, 0.46921742, 0.81168369],\n",
       "         [0.16342951, 0.14640635, 0.97741078],\n",
       "         [0.064322  , 0.47268064, 0.01130898],\n",
       "         ...,\n",
       "         [0.90119182, 0.15522938, 0.98600496],\n",
       "         [0.52857964, 0.4044479 , 0.61871837],\n",
       "         [0.7505085 , 0.90431213, 0.72014547]],\n",
       "\n",
       "        ...,\n",
       "\n",
       "        [[0.5759721 , 0.44749641, 0.03240428],\n",
       "         [0.6665533 , 0.73352242, 0.21676895],\n",
       "         [0.5866332 , 0.74739799, 0.65047096],\n",
       "         ...,\n",
       "         [0.32146446, 0.04763187, 0.89681849],\n",
       "         [0.60558617, 0.01445961, 0.67083781],\n",
       "         [0.6213717 , 0.86626439, 0.32615297]],\n",
       "\n",
       "        [[0.44778652, 0.54075929, 0.8268965 ],\n",
       "         [0.11081918, 0.78828652, 0.11995644],\n",
       "         [0.56867378, 0.51407047, 0.0572878 ],\n",
       "         ...,\n",
       "         [0.54809752, 0.15949292, 0.85419647],\n",
       "         [0.78874802, 0.64913001, 0.27574549],\n",
       "         [0.77824092, 0.45284029, 0.40920222]],\n",
       "\n",
       "        [[0.48762124, 0.66378113, 0.64364757],\n",
       "         [0.62180883, 0.0690189 , 0.04000955],\n",
       "         [0.9943516 , 0.79585204, 0.33996639],\n",
       "         ...,\n",
       "         [0.64451294, 0.87639662, 0.98542827],\n",
       "         [0.31517777, 0.09833943, 0.21102251],\n",
       "         [0.39653659, 0.43788503, 0.32701473]]]])"
      ]
     },
     "execution_count": 16,
     "metadata": {},
     "output_type": "execute_result"
    }
   ],
   "source": [
    "# already defined inputs\n",
    "num_images = 100\n",
    "num_rows = 256\n",
    "num_cols = 256\n",
    "num_channels = 3 #(RGB)\n",
    "\n",
    "# YOUR CODE HERE\n",
    "\n",
    "image_arr = np.random.random(size=(num_images, num_rows, num_cols, num_channels))\n",
    "print(f\"The shape of the array is: {image_arr.shape}\")"
   ]
  },
  {
   "cell_type": "markdown",
   "id": "19d7b075",
   "metadata": {},
   "source": [
    "---\n",
    "#### <span style=\"color:chocolate\">Exercise 5: </span>Mathematical operations on numpy arrays (15 points)"
   ]
  },
  {
   "cell_type": "markdown",
   "id": "b88b701f",
   "metadata": {},
   "source": [
    "Create a (3, 2) numpy array (you can name it my_array4) containing only integer values. Perform the following tasks:\n",
    "\n",
    "1. Print the shape of the array;\n",
    "2. Print the sum of all elements (hint: the axis argument is set to None);\n",
    "3. Print the sum of all elements by column;\n",
    "3. Print the sum of all elements by row and change the type of the resulting array elements to float;\n",
    "5. Print the first row of the array;\n",
    "6. Print the second row of the array;\n",
    "7. Select the element at position (1, 0);\n",
    "8. Modify the element at position (2, 1) by setting its value to 10 and print the array again;\n",
    "9. Loop over elements in the array. Print the output."
   ]
  },
  {
   "cell_type": "code",
   "execution_count": 35,
   "id": "5efe6c22",
   "metadata": {},
   "outputs": [
    {
     "name": "stdout",
     "output_type": "stream",
     "text": [
      "[[3 2]\n",
      " [2 1]\n",
      " [1 4]]\n",
      "**************************************************\n",
      "Print-outs for my_array4\n",
      "**************************************************\n",
      "Shape: (3, 2)\n",
      "**************************************************\n",
      "Sum of all elements: 13\n",
      "**************************************************\n",
      "Sum by column (summing row values for each col): [6 7]\n",
      "**************************************************\n",
      "Sum by row (summing col values for each row)\n",
      " and convert to floats: [5. 3. 5.]\n",
      "**************************************************\n",
      "First row of my_array4: [3 2]\n",
      "**************************************************\n",
      "Second row of my_array4: [2 1]\n",
      "**************************************************\n",
      "Position (1, 0) -- second row and first col: 2\n",
      "**************************************************\n",
      "Print out the modified my_array4: \n",
      "[[ 3  2]\n",
      " [ 2  1]\n",
      " [ 1 10]]\n",
      "The element at row 0 col 0: 3\n",
      "The element at row 0 col 1: 2\n",
      "The element at row 1 col 0: 2\n",
      "The element at row 1 col 1: 1\n",
      "The element at row 2 col 0: 1\n",
      "The element at row 2 col 1: 10\n"
     ]
    }
   ],
   "source": [
    "# YOUR CODE HERE\n",
    "# Creating the array\n",
    "my_array4 = np.random.randint(0, 6, size=(3, 2))\n",
    "print(my_array4)\n",
    "\n",
    "print(50*\"*\")\n",
    "print(\"Print-outs for my_array4\")\n",
    "\n",
    "print(50*\"*\")\n",
    "print(f\"Shape: {my_array4.shape}\")\n",
    "\n",
    "print(50*\"*\")\n",
    "print(f\"Sum of all elements: {my_array4.sum(axis=None)}\")\n",
    "\n",
    "\n",
    "print(50*\"*\")\n",
    "print(f\"Sum by column (summing row values for each col): {my_array4.sum(axis=0)}\")\n",
    "\n",
    "\n",
    "print(50*\"*\")\n",
    "print(f\"Sum by row (summing col values for each row)\\n and convert to floats: {my_array4.sum(axis=1).astype(float)}\")\n",
    "\n",
    "print(50*\"*\")\n",
    "print(f\"First row of my_array4: {my_array4[0,]}\")\n",
    "\n",
    "print(50*\"*\")\n",
    "print(f\"Second row of my_array4: {my_array4[1]}\")\n",
    "\n",
    "print(50*\"*\")\n",
    "print(f\"Position (1, 0) -- second row and first col: {my_array4[1, 0]}\")\n",
    "\n",
    "print(50*\"*\")\n",
    "my_array4[2, 1] = 10\n",
    "print(f\"Print out the modified my_array4: \\n{my_array4}\")\n",
    "\n",
    "#for row in \n",
    "for row in range(my_array4.shape[0]):\n",
    "    for col in range(my_array4.shape[1]):\n",
    "        print(f\"The element at row {row} col {col}: {my_array4[row, col]}\")"
   ]
  },
  {
   "cell_type": "markdown",
   "id": "7a7e249a",
   "metadata": {},
   "source": [
    "You can find more examples here: https://numpy.org/doc/stable/reference/routines.math.html"
   ]
  },
  {
   "cell_type": "markdown",
   "id": "7f71edb9",
   "metadata": {},
   "source": [
    "---\n",
    "#### <span style=\"color:chocolate\">Exercise 6:</span> Create arrays (15 points)\n",
    "\n",
    "1. Create and print a (3,2) numpy array of pixel values between 0 and 1.\n",
    "2. Create and print a (27,) numpy array representing years from 1991 to 2017\n",
    "3. Create and print a (3, 5, 10) numpy array of zeros\n",
    "4. Create and print a (3, 5, 10) numpy array of ones\n",
    "5. Create and print an array with a constant value (let's say 5) using np.ones()\n",
    "6. Create and print an array with random numbers drawn from a normal distribution with mean 0 and standard deviation 1. Set the sample size to 10.\n"
   ]
  },
  {
   "cell_type": "code",
   "execution_count": 4,
   "id": "b1bf53cb",
   "metadata": {},
   "outputs": [
    {
     "name": "stdout",
     "output_type": "stream",
     "text": [
      "3 by 2 pixel array:\n",
      " [[0.14038694 0.19810149]\n",
      " [0.80074457 0.96826158]\n",
      " [0.31342418 0.69232262]]\n",
      "**************************************************\n",
      "years_arr:\n",
      " [1991 1992 1993 1994 1995 1996 1997 1998 1999 2000 2001 2002 2003 2004\n",
      " 2005 2006 2007 2008 2009 2010 2011 2012 2013 2014 2015 2016 2017]\n",
      "**************************************************\n",
      "zeros_arr:\n",
      " [[[0. 0. 0. 0. 0. 0. 0. 0. 0. 0.]\n",
      "  [0. 0. 0. 0. 0. 0. 0. 0. 0. 0.]\n",
      "  [0. 0. 0. 0. 0. 0. 0. 0. 0. 0.]\n",
      "  [0. 0. 0. 0. 0. 0. 0. 0. 0. 0.]\n",
      "  [0. 0. 0. 0. 0. 0. 0. 0. 0. 0.]]\n",
      "\n",
      " [[0. 0. 0. 0. 0. 0. 0. 0. 0. 0.]\n",
      "  [0. 0. 0. 0. 0. 0. 0. 0. 0. 0.]\n",
      "  [0. 0. 0. 0. 0. 0. 0. 0. 0. 0.]\n",
      "  [0. 0. 0. 0. 0. 0. 0. 0. 0. 0.]\n",
      "  [0. 0. 0. 0. 0. 0. 0. 0. 0. 0.]]\n",
      "\n",
      " [[0. 0. 0. 0. 0. 0. 0. 0. 0. 0.]\n",
      "  [0. 0. 0. 0. 0. 0. 0. 0. 0. 0.]\n",
      "  [0. 0. 0. 0. 0. 0. 0. 0. 0. 0.]\n",
      "  [0. 0. 0. 0. 0. 0. 0. 0. 0. 0.]\n",
      "  [0. 0. 0. 0. 0. 0. 0. 0. 0. 0.]]]\n",
      "**************************************************\n",
      "ones_arr:\n",
      " [[[1. 1. 1. 1. 1. 1. 1. 1. 1. 1.]\n",
      "  [1. 1. 1. 1. 1. 1. 1. 1. 1. 1.]\n",
      "  [1. 1. 1. 1. 1. 1. 1. 1. 1. 1.]\n",
      "  [1. 1. 1. 1. 1. 1. 1. 1. 1. 1.]\n",
      "  [1. 1. 1. 1. 1. 1. 1. 1. 1. 1.]]\n",
      "\n",
      " [[1. 1. 1. 1. 1. 1. 1. 1. 1. 1.]\n",
      "  [1. 1. 1. 1. 1. 1. 1. 1. 1. 1.]\n",
      "  [1. 1. 1. 1. 1. 1. 1. 1. 1. 1.]\n",
      "  [1. 1. 1. 1. 1. 1. 1. 1. 1. 1.]\n",
      "  [1. 1. 1. 1. 1. 1. 1. 1. 1. 1.]]\n",
      "\n",
      " [[1. 1. 1. 1. 1. 1. 1. 1. 1. 1.]\n",
      "  [1. 1. 1. 1. 1. 1. 1. 1. 1. 1.]\n",
      "  [1. 1. 1. 1. 1. 1. 1. 1. 1. 1.]\n",
      "  [1. 1. 1. 1. 1. 1. 1. 1. 1. 1.]\n",
      "  [1. 1. 1. 1. 1. 1. 1. 1. 1. 1.]]]\n",
      "**************************************************\n",
      "Array of constants:\n",
      " [[5. 5. 5. 5.]\n",
      " [5. 5. 5. 5.]]\n",
      "**************************************************\n",
      "10-sample from standard normal:\n",
      " [-0.17242821 -0.87785842  0.04221375  0.58281521 -1.10061918  1.14472371\n",
      "  0.90159072  0.50249434  0.90085595 -0.68372786]\n"
     ]
    }
   ],
   "source": [
    "# YOUR CODE HERE\n",
    "pixel_arr = np.random.random(size=(3, 2))\n",
    "print(\"3 by 2 pixel array:\\n\", pixel_arr)\n",
    "\n",
    "print(50*\"*\")\n",
    "years_arr = np.array([year for year in range(1991, 2018, 1)])\n",
    "print(\"years_arr:\\n\", years_arr)\n",
    "\n",
    "print(50*\"*\")\n",
    "zeros_arr = np.zeros(shape=(3, 5, 10))\n",
    "print(\"zeros_arr:\\n\", zeros_arr)\n",
    "\n",
    "print(50*\"*\")\n",
    "ones_arr = np.ones(shape=(3, 5, 10))\n",
    "print(\"ones_arr:\\n\", ones_arr)\n",
    "\n",
    "print(50*\"*\")\n",
    "constant_arr = 5 * np.ones(shape=(2, 4))\n",
    "print(\"Array of constants:\\n\", constant_arr)\n",
    "\n",
    "print(50*\"*\")\n",
    "nsample_arr = np.random.randn(10)\n",
    "print(\"10-sample from standard normal:\\n\", nsample_arr)"
   ]
  },
  {
   "cell_type": "markdown",
   "id": "4fd05963",
   "metadata": {},
   "source": [
    "---\n",
    "#### <span style=\"color:chocolate\">Exercise 7:</span> Reshape arrays (10 points)"
   ]
  },
  {
   "cell_type": "markdown",
   "id": "e139e4eb",
   "metadata": {},
   "source": [
    "Consider the following array:"
   ]
  },
  {
   "cell_type": "code",
   "execution_count": 5,
   "id": "a5a192dc",
   "metadata": {},
   "outputs": [
    {
     "name": "stdout",
     "output_type": "stream",
     "text": [
      "(27,)\n"
     ]
    }
   ],
   "source": [
    "years = np.arange(1991, 2018, 1)\n",
    "print(years.shape)"
   ]
  },
  {
   "cell_type": "markdown",
   "id": "d3255640",
   "metadata": {},
   "source": [
    "Perform the following operations on this array:\n",
    "    \n",
    "1. Create 3 nested arrays, each of size (3, 3). Call this array years_3d;\n",
    "2. Convert the years_3d array to a flat 1D array. Call this array years_1d;\n",
    "3. Add a new axis (in front) to the years_1d array. Call this array years_2d;\n",
    "4. Remove the first axis from years_2d array. Call this array years_1d.\n",
    "\n",
    "For each exercise print the array and its shape."
   ]
  },
  {
   "cell_type": "code",
   "execution_count": 13,
   "id": "ab18878a",
   "metadata": {},
   "outputs": [
    {
     "name": "stdout",
     "output_type": "stream",
     "text": [
      "Task 1: years_3d.\n",
      "Shape: (3, 3, 3)\n",
      "[[[1991 1992 1993]\n",
      "  [1994 1995 1996]\n",
      "  [1997 1998 1999]]\n",
      "\n",
      " [[2000 2001 2002]\n",
      "  [2003 2004 2005]\n",
      "  [2006 2007 2008]]\n",
      "\n",
      " [[2009 2010 2011]\n",
      "  [2012 2013 2014]\n",
      "  [2015 2016 2017]]]\n",
      "**************************************************\n",
      "Task 2: years_1d:\n",
      "Shape: (27,)\n",
      "[1991 1992 1993 1994 1995 1996 1997 1998 1999 2000 2001 2002 2003 2004\n",
      " 2005 2006 2007 2008 2009 2010 2011 2012 2013 2014 2015 2016 2017]\n",
      "**************************************************\n",
      "Task 3: years_2d\n",
      "Shape: (1, 27)\n",
      "[[1991 1992 1993 1994 1995 1996 1997 1998 1999 2000 2001 2002 2003 2004\n",
      "  2005 2006 2007 2008 2009 2010 2011 2012 2013 2014 2015 2016 2017]]\n",
      "**************************************************\n",
      "Task 4: back to years_1d\n",
      "Shape: (27,)\n",
      "[1991 1992 1993 1994 1995 1996 1997 1998 1999 2000 2001 2002 2003 2004\n",
      " 2005 2006 2007 2008 2009 2010 2011 2012 2013 2014 2015 2016 2017]\n"
     ]
    }
   ],
   "source": [
    "# YOUR CODE HERE\n",
    "\n",
    "# Task 1\n",
    "print(\"Task 1: years_3d.\")\n",
    "years_3d = years.reshape(3, 3, 3)\n",
    "print(\"Shape:\", years_3d.shape)\n",
    "print(years_3d)\n",
    "\n",
    "# Task 2\n",
    "print(50*\"*\")\n",
    "print(\"Task 2: years_1d:\")\n",
    "years_1d = years_3d.reshape((27,))\n",
    "print(\"Shape:\", years_1d.shape)\n",
    "print(years_1d)\n",
    "\n",
    "# Task 3\n",
    "print(50*\"*\")\n",
    "print(\"Task 3: years_2d\")\n",
    "years_2d = years_1d.reshape(1, -1)\n",
    "print(\"Shape:\", years_2d.shape)\n",
    "print(years_2d)\n",
    "\n",
    "# Task 4\n",
    "print(50*\"*\")\n",
    "print(\"Task 4: back to years_1d\")\n",
    "years_1d = years_2d.reshape(-1)\n",
    "print(\"Shape:\", years_1d.shape)\n",
    "print(years_1d)\n",
    "\n"
   ]
  },
  {
   "cell_type": "markdown",
   "id": "6a3a4011",
   "metadata": {},
   "source": [
    "---\n",
    "#### <span style=\"color:chocolate\">Exercise 8:</span> Joining arrays (10 points)"
   ]
  },
  {
   "cell_type": "markdown",
   "id": "5382a84a",
   "metadata": {},
   "source": [
    "Provide 8 examples that use the methods <span style=\"color:cornflowerBlue\">np.concatenate()</span> and <span style=\"color:cornflowerBlue\">np.stack()</span>. Note: create 4 examples using each method."
   ]
  },
  {
   "cell_type": "code",
   "execution_count": 17,
   "id": "a9c2ff1a",
   "metadata": {},
   "outputs": [
    {
     "data": {
      "text/plain": [
       "array([1, 2, 3, 4])"
      ]
     },
     "execution_count": 17,
     "metadata": {},
     "output_type": "execute_result"
    }
   ],
   "source": [
    "# YOUR CODE HERE\n",
    "\n",
    "ex_arr1 = np.array([1, 2])\n",
    "ex_arr2 = np.array([3, 4])\n",
    "list3 = [num for num in range(10)]\n",
    "np.concatenate((ex_arr1, ex_arr2))"
   ]
  },
  {
   "cell_type": "markdown",
   "id": "7780b5b8",
   "metadata": {},
   "source": [
    "---\n",
    "#### <span style=\"color:chocolate\">Numpy broadcasting</span> "
   ]
  },
  {
   "cell_type": "markdown",
   "id": "d105a999",
   "metadata": {},
   "source": [
    "The term broadcasting describes how NumPy treats arrays during arithmetic operations. You can find more here:  https://numpy.org/doc/stable/user/basics.broadcasting.html"
   ]
  },
  {
   "cell_type": "code",
   "execution_count": null,
   "id": "ce9ca817",
   "metadata": {},
   "outputs": [],
   "source": [
    "# multiplying an array with a scalar\n",
    "years = np.arange(1991, 2018, 1)\n",
    "years * 1"
   ]
  },
  {
   "cell_type": "code",
   "execution_count": null,
   "id": "d2150eb6",
   "metadata": {},
   "outputs": [],
   "source": [
    "# adding a scalar\n",
    "years + 2"
   ]
  },
  {
   "cell_type": "code",
   "execution_count": null,
   "id": "d7319a34",
   "metadata": {},
   "outputs": [],
   "source": [
    "# many arithmetic operations are applied element wise on a pair of arrays\n",
    "a = np.arange(3)\n",
    "print('Array a:', a)\n",
    "b = np.arange(3)\n",
    "print('Array b:', b)\n",
    "print('Sum of a and b:', a+b)"
   ]
  },
  {
   "cell_type": "code",
   "execution_count": null,
   "id": "44ac94cd",
   "metadata": {},
   "outputs": [],
   "source": [
    "# another example\n",
    "a = np.ones((3, 3))\n",
    "print('Array a:', a)\n",
    "b = np.arange(3)\n",
    "print('\\nArray b:', b)\n",
    "print('\\nSum of a and b:', a+b)"
   ]
  },
  {
   "cell_type": "markdown",
   "id": "85e7d3c8",
   "metadata": {},
   "source": [
    "---\n",
    "#### <span style=\"color:chocolate\">Exercise 9:</span> Numpy array standardization (10 points)"
   ]
  },
  {
   "cell_type": "markdown",
   "id": "9bccc9d7",
   "metadata": {},
   "source": [
    "Consider the following (10, 4) array:"
   ]
  },
  {
   "cell_type": "code",
   "execution_count": null,
   "id": "02a2102e",
   "metadata": {},
   "outputs": [],
   "source": [
    "my_array = np.random.random((10, 4))\n",
    "print('my_array shape: ', my_array.shape)\n",
    "my_array"
   ]
  },
  {
   "cell_type": "markdown",
   "id": "c505935d",
   "metadata": {},
   "source": [
    "Peform the following operations on this array:\n",
    "1. Compute and print the mean and std for each column (note: set keepdims=True for proper broadcasting).\n",
    "2. Standardize and print the array and its shape using the mean and std you computed above."
   ]
  },
  {
   "cell_type": "code",
   "execution_count": null,
   "id": "5a88c63d",
   "metadata": {},
   "outputs": [],
   "source": [
    "# YOUR CODE HERE"
   ]
  },
  {
   "cell_type": "markdown",
   "id": "ebe2eaa0",
   "metadata": {},
   "source": [
    "----\n",
    "#### <span style=\"color:chocolate\">Additional practice question</span> (not graded)"
   ]
  },
  {
   "cell_type": "markdown",
   "id": "d43bdaa7",
   "metadata": {},
   "source": [
    "Consider the following image:"
   ]
  },
  {
   "cell_type": "code",
   "execution_count": null,
   "id": "e7c61c06",
   "metadata": {},
   "outputs": [],
   "source": [
    "my_image = np.arange(0, 1, 0.04).reshape(5,5)\n",
    "print(my_image)\n",
    "my_image.shape"
   ]
  },
  {
   "cell_type": "markdown",
   "id": "78f029bd",
   "metadata": {},
   "source": [
    "Perform the following operations on this image (do not overwrite the original image):\n",
    "\n",
    "1. Crop by using a border of size 1;\n",
    "2. Crop by removing:\n",
    "    * the first and the last two rows, and\n",
    "    * the first and the last two columns;\n",
    "3. Reverse the column order;\n",
    "4. set to 0.5 elements divizible by 2."
   ]
  },
  {
   "cell_type": "code",
   "execution_count": null,
   "id": "d7dadfcf",
   "metadata": {},
   "outputs": [],
   "source": [
    "# YOUR CODE HERE"
   ]
  }
 ],
 "metadata": {
  "kernelspec": {
   "display_name": "venv",
   "language": "python",
   "name": "python3"
  },
  "language_info": {
   "codemirror_mode": {
    "name": "ipython",
    "version": 3
   },
   "file_extension": ".py",
   "mimetype": "text/x-python",
   "name": "python",
   "nbconvert_exporter": "python",
   "pygments_lexer": "ipython3",
   "version": "3.12.1"
  }
 },
 "nbformat": 4,
 "nbformat_minor": 5
}
