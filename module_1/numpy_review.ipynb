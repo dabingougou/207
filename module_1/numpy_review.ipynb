{
 "cells": [
  {
   "cell_type": "markdown",
   "id": "68d2f193",
   "metadata": {},
   "source": [
    "# Assignment 0"
   ]
  },
  {
   "cell_type": "markdown",
   "id": "231ec299",
   "metadata": {},
   "source": [
    "### <span style=\"color:chocolate\"> Submission requirements </span>\n",
    "\n",
    "Your work will not be graded if your notebook doesn't include output. In other words, <span style=\"color:red\"> make sure to rerun your notebook before submitting to Gradescope </span> (Note: if you are using Google Colab: go to Edit > Notebook Settings  and uncheck Omit code cell output when saving this notebook, otherwise the output is not printed).\n",
    "\n",
    "Additional points may be deducted if these requirements are not met:\n",
    "\n",
    "    \n",
    "* Comment your code;\n",
    "* Each graph should have a title, labels for each axis, and (if needed) a legend. Each graph should be understandable on its own;\n",
    "* Try and minimize the use of the global namespace (meaning, keep things inside functions).\n",
    "---"
   ]
  },
  {
   "cell_type": "markdown",
   "id": "aae36a3a",
   "metadata": {},
   "source": [
    "### Import libraries"
   ]
  },
  {
   "cell_type": "code",
   "execution_count": 2,
   "id": "1d2c9a02",
   "metadata": {},
   "outputs": [],
   "source": [
    "import numpy as np\n",
    "np.random.seed(seed=1)"
   ]
  },
  {
   "cell_type": "markdown",
   "id": "8fb0f91b",
   "metadata": {},
   "source": [
    "---\n",
    "### <span style=\"color:chocolate\">Exercise 1:</span> Homogenous data types (10 points)\n",
    "\n",
    "1. Create a numpy array (my_array1) containing only integer values. Print the shape of the array and the type of its elements;\n",
    "2. Create another numpy array (my_array2) containing a mix of integer and string values. Print the shape of the array and the type of its elements. Comment on the type of its elements."
   ]
  },
  {
   "cell_type": "code",
   "execution_count": 22,
   "id": "49c4add6",
   "metadata": {},
   "outputs": [
    {
     "name": "stdout",
     "output_type": "stream",
     "text": [
      "my_array1 dimension: (2, 3, 4)\n",
      "my_array1 contains datatype: int64\n",
      "my_array2 shape: (9,)\n",
      "my_array2 elements data type: <U8\n"
     ]
    }
   ],
   "source": [
    "# YOUR CODE HERE\n",
    "\n",
    "# Creating the first array\n",
    "my_array1 = np.random.randint(1, 100, size=(2, 3, 4))\n",
    "\n",
    "# Print out shape\n",
    "print(f\"my_array1 dimension: {my_array1.shape}\")\n",
    "# Print out datatype of the elements\n",
    "print(f\"my_array1 contains datatype: {my_array1.dtype}\")\n",
    "\n",
    "text = \"I am enrolled in section 1 of DATASCI 207.\"\n",
    "my_array2 = np.array(text.split())\n",
    "print(f\"my_array2 shape: {my_array2.shape}\")\n",
    "print(f\"my_array2 elements data type: {my_array2.dtype}\")\n"
   ]
  },
  {
   "cell_type": "markdown",
   "id": "8becfbd2",
   "metadata": {},
   "source": [
    "---\n",
    "#### <span style=\"color:chocolate\">Exercise 2:</span> The size attribute (10 points)\n",
    "\n",
    "Create a numpy array (my_array3) and print its shape, size, and data type. What does size represent?"
   ]
  },
  {
   "cell_type": "code",
   "execution_count": 10,
   "id": "8733dbc0",
   "metadata": {},
   "outputs": [
    {
     "name": "stdout",
     "output_type": "stream",
     "text": [
      "my_array3 shape: (2, 3, 5)\n",
      "my_array3 elements data type: int64\n",
      "my_array3 size: 30\n",
      "\n",
      "Please see below markdown cell for comment on the size attribute.\n"
     ]
    }
   ],
   "source": [
    "# YOUR CODE HERE\n",
    "\n",
    "# Creating an array of random integers\n",
    "my_array3 = np.random.randint(1, 100, size=(2, 3, 5))\n",
    "\n",
    "# Print out shape, datatype of elements, and size\n",
    "print(f\"my_array3 shape: {my_array3.shape}\")\n",
    "print(f\"my_array3 elements data type: {my_array3.dtype}\")\n",
    "print(f\"my_array3 size: {my_array3.size}\\n\")\n",
    "\n",
    "# the \"size\" attribute\n",
    "print(\"Please see below markdown cell for comment on the size attribute.\")\n",
    "\n",
    "\n"
   ]
  },
  {
   "cell_type": "markdown",
   "id": "3583397f",
   "metadata": {},
   "source": [
    "### What does the size attribute represent? \n",
    "It represents the **number of elements** of the array, **not the dimension** as I initially thought."
   ]
  },
  {
   "cell_type": "markdown",
   "id": "89731f88",
   "metadata": {},
   "source": [
    "---\n",
    "#### <span style=\"color:chocolate\">Exercise 3:</span> Tabular data layout (10 points)"
   ]
  },
  {
   "cell_type": "markdown",
   "id": "89c8c4d9",
   "metadata": {},
   "source": [
    "Create a tabular data layout using the numpy method <span style=\"color:chocolate\">np.random.random()</span>, where:\n",
    "* the first input is num_samples, and\n",
    "* the second input is num_features. \n",
    "\n",
    "Print the shape of the array."
   ]
  },
  {
   "cell_type": "code",
   "execution_count": 12,
   "id": "dcabc0b0",
   "metadata": {},
   "outputs": [
    {
     "name": "stdout",
     "output_type": "stream",
     "text": [
      "The dimension is: 2-d with number of rows and cols given by (100, 17).\n"
     ]
    }
   ],
   "source": [
    "# already defined first and second inputs\n",
    "num_samples = 100\n",
    "num_features = 17\n",
    "\n",
    "# YOUR CODE HERE\n",
    "tabular_data = np.random.random(size=(num_samples, num_features))\n",
    "print(f\"The dimension is: 2-d with number of rows and cols given by {tabular_data.shape}.\")\n",
    "\n"
   ]
  },
  {
   "cell_type": "markdown",
   "id": "9ea1e400",
   "metadata": {},
   "source": [
    "---\n",
    "#### <span style=\"color:chocolate\">Exercise 4:</span> Image data layout (10 points)"
   ]
  },
  {
   "cell_type": "markdown",
   "id": "7c5b220a",
   "metadata": {},
   "source": [
    "Create an image data layout using the numpy method <span style=\"color:chocolate\">np.random.random()</span>, where:\n",
    "\n",
    "* the first input is num_images;\n",
    "* the second input is num_rows;\n",
    "* the third input is num_cols;\n",
    "* the fourth input is num_channels.\n",
    "\n",
    "Print the shape of the array."
   ]
  },
  {
   "cell_type": "code",
   "execution_count": null,
   "id": "9b371f29",
   "metadata": {},
   "outputs": [
    {
     "name": "stdout",
     "output_type": "stream",
     "text": [
      "The shape of the array is: (100, 256, 256, 3)\n"
     ]
    },
    {
     "data": {
      "text/plain": [
       "array([[[[0.29272464, 0.94481579, 0.69394338],\n",
       "         [0.3678438 , 0.89938961, 0.12460387],\n",
       "         [0.08375103, 0.04799493, 0.51003431],\n",
       "         ...,\n",
       "         [0.50960241, 0.49700664, 0.04086177],\n",
       "         [0.98812649, 0.55185682, 0.35857879],\n",
       "         [0.45856757, 0.50887102, 0.15654297]],\n",
       "\n",
       "        [[0.42404199, 0.02833513, 0.38123851],\n",
       "         [0.08762801, 0.68354967, 0.7153634 ],\n",
       "         [0.3113018 , 0.88503572, 0.87058675],\n",
       "         ...,\n",
       "         [0.45313464, 0.61297729, 0.28749888],\n",
       "         [0.06358063, 0.03245838, 0.19699756],\n",
       "         [0.64507787, 0.56533999, 0.06437767]],\n",
       "\n",
       "        [[0.34340754, 0.73082072, 0.11729831],\n",
       "         [0.54431253, 0.6146792 , 0.51209083],\n",
       "         [0.66801662, 0.42271449, 0.86331055],\n",
       "         ...,\n",
       "         [0.9624234 , 0.48264898, 0.10952155],\n",
       "         [0.63778419, 0.76463507, 0.46455753],\n",
       "         [0.49744787, 0.92220235, 0.98190443]],\n",
       "\n",
       "        ...,\n",
       "\n",
       "        [[0.48618613, 0.06775468, 0.84883065],\n",
       "         [0.25882469, 0.34537013, 0.09866372],\n",
       "         [0.79237664, 0.2038498 , 0.07709001],\n",
       "         ...,\n",
       "         [0.87647536, 0.02842187, 0.36703675],\n",
       "         [0.84522546, 0.39321081, 0.17052209],\n",
       "         [0.88553559, 0.26577634, 0.87811887]],\n",
       "\n",
       "        [[0.89174074, 0.95061481, 0.63321802],\n",
       "         [0.0931826 , 0.68893237, 0.22610902],\n",
       "         [0.25004668, 0.24497582, 0.92121267],\n",
       "         ...,\n",
       "         [0.6143004 , 0.47827707, 0.01460287],\n",
       "         [0.10409464, 0.32144566, 0.47691048],\n",
       "         [0.75893322, 0.61453857, 0.42486948]],\n",
       "\n",
       "        [[0.9823251 , 0.71842233, 0.04687642],\n",
       "         [0.90863288, 0.86601301, 0.84248804],\n",
       "         [0.80923809, 0.30396122, 0.64656333],\n",
       "         ...,\n",
       "         [0.22604199, 0.30605508, 0.17312137],\n",
       "         [0.03430518, 0.84761244, 0.41724037],\n",
       "         [0.75985862, 0.88234475, 0.46503932]]],\n",
       "\n",
       "\n",
       "       [[[0.86913961, 0.52902938, 0.91046566],\n",
       "         [0.52025023, 0.12026962, 0.03038296],\n",
       "         [0.10753976, 0.86762734, 0.89680912],\n",
       "         ...,\n",
       "         [0.99669255, 0.96048662, 0.07248831],\n",
       "         [0.20817867, 0.35510127, 0.26564635],\n",
       "         [0.34103035, 0.34946999, 0.22964806]],\n",
       "\n",
       "        [[0.4859474 , 0.49411044, 0.26065985],\n",
       "         [0.74288864, 0.46760275, 0.27259397],\n",
       "         [0.44353614, 0.86590467, 0.33549356],\n",
       "         ...,\n",
       "         [0.5356405 , 0.63629338, 0.29125955],\n",
       "         [0.31520757, 0.87786809, 0.49580421],\n",
       "         [0.86637873, 0.40198485, 0.25369324]],\n",
       "\n",
       "        [[0.21470853, 0.36516198, 0.06548747],\n",
       "         [0.21358071, 0.98275148, 0.36939444],\n",
       "         [0.03791943, 0.41494506, 0.38120629],\n",
       "         ...,\n",
       "         [0.5573402 , 0.65808616, 0.49656473],\n",
       "         [0.62150133, 0.7373512 , 0.49524103],\n",
       "         [0.96458973, 0.6060187 , 0.10456429]],\n",
       "\n",
       "        ...,\n",
       "\n",
       "        [[0.95272234, 0.49739698, 0.53013772],\n",
       "         [0.41175527, 0.72639881, 0.39338654],\n",
       "         [0.4493912 , 0.27487945, 0.52938493],\n",
       "         ...,\n",
       "         [0.24829819, 0.12569041, 0.26139063],\n",
       "         [0.56400771, 0.05644144, 0.46005906],\n",
       "         [0.64659526, 0.26808586, 0.18067456]],\n",
       "\n",
       "        [[0.20176317, 0.88728047, 0.73203602],\n",
       "         [0.6810434 , 0.62430713, 0.3123811 ],\n",
       "         [0.79572503, 0.13490422, 0.98990915],\n",
       "         ...,\n",
       "         [0.59487124, 0.78882775, 0.5481829 ],\n",
       "         [0.13535603, 0.31984587, 0.07179821],\n",
       "         [0.11883741, 0.71020292, 0.95261738]],\n",
       "\n",
       "        [[0.40729677, 0.28048213, 0.81774569],\n",
       "         [0.73690816, 0.33776275, 0.69172063],\n",
       "         [0.87536005, 0.57443872, 0.33664119],\n",
       "         ...,\n",
       "         [0.27216532, 0.32811872, 0.89319693],\n",
       "         [0.91910907, 0.38644205, 0.98615937],\n",
       "         [0.3695925 , 0.36022082, 0.70474847]]],\n",
       "\n",
       "\n",
       "       [[[0.02700538, 0.04838774, 0.31470816],\n",
       "         [0.47580053, 0.4040395 , 0.4878022 ],\n",
       "         [0.89738358, 0.18151437, 0.48644151],\n",
       "         ...,\n",
       "         [0.02129717, 0.96129633, 0.21369759],\n",
       "         [0.56742017, 0.28633956, 0.29686498],\n",
       "         [0.43722559, 0.0676466 , 0.30418419]],\n",
       "\n",
       "        [[0.70708811, 0.9201201 , 0.02932994],\n",
       "         [0.74252986, 0.2113712 , 0.8523203 ],\n",
       "         [0.57523216, 0.15335633, 0.84492883],\n",
       "         ...,\n",
       "         [0.97936835, 0.77900568, 0.12252506],\n",
       "         [0.49027404, 0.78457996, 0.8517691 ],\n",
       "         [0.37731931, 0.41565651, 0.87104016]],\n",
       "\n",
       "        [[0.06123875, 0.59952581, 0.19704439],\n",
       "         [0.17161153, 0.98470322, 0.25902978],\n",
       "         [0.08203985, 0.93400214, 0.47729887],\n",
       "         ...,\n",
       "         [0.98525437, 0.60320692, 0.42517962],\n",
       "         [0.97213045, 0.42271659, 0.09517784],\n",
       "         [0.21410004, 0.51170221, 0.08346589]],\n",
       "\n",
       "        ...,\n",
       "\n",
       "        [[0.73221568, 0.11587641, 0.08498872],\n",
       "         [0.93307837, 0.93821162, 0.0364658 ],\n",
       "         [0.67981312, 0.89894593, 0.15401637],\n",
       "         ...,\n",
       "         [0.12218532, 0.46569257, 0.01185236],\n",
       "         [0.56742758, 0.94892338, 0.57089666],\n",
       "         [0.64747792, 0.64932191, 0.9014585 ]],\n",
       "\n",
       "        [[0.57971346, 0.17432358, 0.44115284],\n",
       "         [0.82589484, 0.83656453, 0.69646378],\n",
       "         [0.14361077, 0.40037913, 0.6906405 ],\n",
       "         ...,\n",
       "         [0.58098152, 0.96139288, 0.23273322],\n",
       "         [0.76555451, 0.10813446, 0.30011495],\n",
       "         [0.84245451, 0.34477369, 0.1152605 ]],\n",
       "\n",
       "        [[0.03688913, 0.33034694, 0.57446533],\n",
       "         [0.66243248, 0.8324804 , 0.63187973],\n",
       "         [0.34457706, 0.7235651 , 0.62670618],\n",
       "         ...,\n",
       "         [0.45880528, 0.53919502, 0.68142116],\n",
       "         [0.53345335, 0.47587507, 0.71956537],\n",
       "         [0.39975797, 0.07676371, 0.20567647]]],\n",
       "\n",
       "\n",
       "       ...,\n",
       "\n",
       "\n",
       "       [[[0.22447375, 0.77325965, 0.43930727],\n",
       "         [0.6447586 , 0.89879861, 0.28889046],\n",
       "         [0.41410761, 0.16272135, 0.03737405],\n",
       "         ...,\n",
       "         [0.4366012 , 0.03291176, 0.09925112],\n",
       "         [0.57996047, 0.36752988, 0.23886397],\n",
       "         [0.10854152, 0.52467236, 0.29572715]],\n",
       "\n",
       "        [[0.13454694, 0.81489601, 0.12634763],\n",
       "         [0.42756097, 0.06133038, 0.29036732],\n",
       "         [0.88586048, 0.09480482, 0.5327655 ],\n",
       "         ...,\n",
       "         [0.14008891, 0.8393679 , 0.14450299],\n",
       "         [0.48688202, 0.15381106, 0.72354119],\n",
       "         [0.72238945, 0.39463933, 0.65440681]],\n",
       "\n",
       "        [[0.65072008, 0.12644474, 0.85947655],\n",
       "         [0.40806817, 0.59164666, 0.56858488],\n",
       "         [0.40789494, 0.79647421, 0.7932138 ],\n",
       "         ...,\n",
       "         [0.69968379, 0.36496102, 0.09989669],\n",
       "         [0.00155766, 0.21059746, 0.76107835],\n",
       "         [0.19701297, 0.58746677, 0.92759539]],\n",
       "\n",
       "        ...,\n",
       "\n",
       "        [[0.73429008, 0.94907239, 0.57144055],\n",
       "         [0.99157332, 0.56472201, 0.04941228],\n",
       "         [0.95108583, 0.2623394 , 0.78992255],\n",
       "         ...,\n",
       "         [0.50821946, 0.26200508, 0.16050337],\n",
       "         [0.00842108, 0.70609572, 0.50855726],\n",
       "         [0.05849626, 0.83226353, 0.86196465]],\n",
       "\n",
       "        [[0.36649176, 0.88409901, 0.68476329],\n",
       "         [0.00486168, 0.38068825, 0.06962861],\n",
       "         [0.2019132 , 0.95975957, 0.70455061],\n",
       "         ...,\n",
       "         [0.2411824 , 0.16463665, 0.5816856 ],\n",
       "         [0.15235786, 0.49348527, 0.40439445],\n",
       "         [0.71288514, 0.93036555, 0.37938996]],\n",
       "\n",
       "        [[0.4740674 , 0.87839426, 0.87271592],\n",
       "         [0.59956792, 0.44273444, 0.30224645],\n",
       "         [0.36267051, 0.23768745, 0.68098939],\n",
       "         ...,\n",
       "         [0.84297479, 0.47001439, 0.43888103],\n",
       "         [0.2053056 , 0.93704819, 0.57352684],\n",
       "         [0.92649776, 0.52291829, 0.97865306]]],\n",
       "\n",
       "\n",
       "       [[[0.35551039, 0.76215814, 0.30107137],\n",
       "         [0.07820786, 0.87582687, 0.33865085],\n",
       "         [0.07340208, 0.10593624, 0.74822749],\n",
       "         ...,\n",
       "         [0.27376725, 0.93065459, 0.78703009],\n",
       "         [0.22224919, 0.81319981, 0.79355441],\n",
       "         [0.52132538, 0.34096762, 0.81672582]],\n",
       "\n",
       "        [[0.54987033, 0.65109813, 0.70198565],\n",
       "         [0.54935455, 0.63860472, 0.64649722],\n",
       "         [0.52633374, 0.31616462, 0.00707547],\n",
       "         ...,\n",
       "         [0.0278054 , 0.83591233, 0.40761451],\n",
       "         [0.88927479, 0.20926723, 0.25406966],\n",
       "         [0.74509984, 0.39109566, 0.60715464]],\n",
       "\n",
       "        [[0.14963276, 0.32469522, 0.38145536],\n",
       "         [0.46742217, 0.75444177, 0.94636869],\n",
       "         [0.11686316, 0.75743993, 0.1090756 ],\n",
       "         ...,\n",
       "         [0.47044794, 0.49068937, 0.78931595],\n",
       "         [0.76964934, 0.6224591 , 0.09691721],\n",
       "         [0.18966861, 0.29621585, 0.67951613]],\n",
       "\n",
       "        ...,\n",
       "\n",
       "        [[0.86372358, 0.45833134, 0.8630185 ],\n",
       "         [0.8115937 , 0.5190972 , 0.47437827],\n",
       "         [0.25384484, 0.96656912, 0.52826988],\n",
       "         ...,\n",
       "         [0.87044846, 0.4515169 , 0.58280274],\n",
       "         [0.91256741, 0.76880501, 0.47750337],\n",
       "         [0.78737843, 0.36460831, 0.22946671]],\n",
       "\n",
       "        [[0.72396339, 0.63100182, 0.66251265],\n",
       "         [0.2397857 , 0.0114501 , 0.19925518],\n",
       "         [0.52486922, 0.6163459 , 0.19572695],\n",
       "         ...,\n",
       "         [0.55705874, 0.90699768, 0.11066575],\n",
       "         [0.72258585, 0.21307133, 0.62624717],\n",
       "         [0.11043489, 0.54371042, 0.48196051]],\n",
       "\n",
       "        [[0.97168433, 0.23576159, 0.04807918],\n",
       "         [0.81245436, 0.23854446, 0.49094818],\n",
       "         [0.2677869 , 0.64989953, 0.49405071],\n",
       "         ...,\n",
       "         [0.27803805, 0.24637847, 0.15197881],\n",
       "         [0.98435695, 0.2885844 , 0.39988979],\n",
       "         [0.74482517, 0.68760046, 0.90806847]]],\n",
       "\n",
       "\n",
       "       [[[0.57007878, 0.33140638, 0.440421  ],\n",
       "         [0.49499301, 0.96369125, 0.78902946],\n",
       "         [0.95160911, 0.85902252, 0.89290026],\n",
       "         ...,\n",
       "         [0.79182468, 0.21481354, 0.89890478],\n",
       "         [0.07077676, 0.20219808, 0.12191492],\n",
       "         [0.70652922, 0.30119339, 0.12581783]],\n",
       "\n",
       "        [[0.29005036, 0.73218608, 0.49711826],\n",
       "         [0.76424877, 0.55313998, 0.81358766],\n",
       "         [0.36094614, 0.36197093, 0.66056502],\n",
       "         ...,\n",
       "         [0.85621318, 0.49167701, 0.53773588],\n",
       "         [0.32736943, 0.50920955, 0.66461385],\n",
       "         [0.81639978, 0.66058176, 0.43741622]],\n",
       "\n",
       "        [[0.12199587, 0.05406863, 0.39433474],\n",
       "         [0.68385233, 0.60692289, 0.45681382],\n",
       "         [0.30227657, 0.31088865, 0.28266029],\n",
       "         ...,\n",
       "         [0.23062494, 0.42263707, 0.25374638],\n",
       "         [0.31407656, 0.63156947, 0.01636054],\n",
       "         [0.31138956, 0.28314032, 0.57145527]],\n",
       "\n",
       "        ...,\n",
       "\n",
       "        [[0.44258409, 0.5724916 , 0.93967069],\n",
       "         [0.21355571, 0.15135373, 0.86019022],\n",
       "         [0.72995592, 0.10134039, 0.38904815],\n",
       "         ...,\n",
       "         [0.17110229, 0.04231643, 0.69888841],\n",
       "         [0.72442687, 0.44261408, 0.85271406],\n",
       "         [0.25873596, 0.77240305, 0.70267988]],\n",
       "\n",
       "        [[0.90514631, 0.73360626, 0.75295142],\n",
       "         [0.70909882, 0.67859522, 0.60321692],\n",
       "         [0.01767101, 0.87456904, 0.95937096],\n",
       "         ...,\n",
       "         [0.35435063, 0.4354535 , 0.25175773],\n",
       "         [0.76037771, 0.01427982, 0.77190025],\n",
       "         [0.14844723, 0.23891788, 0.667523  ]],\n",
       "\n",
       "        [[0.49046093, 0.16242112, 0.71251476],\n",
       "         [0.9164839 , 0.59126076, 0.69935657],\n",
       "         [0.39882154, 0.21722974, 0.94610994],\n",
       "         ...,\n",
       "         [0.36639016, 0.3977251 , 0.10573559],\n",
       "         [0.50584856, 0.70286614, 0.11999004],\n",
       "         [0.78129756, 0.82808466, 0.65313189]]]])"
      ]
     },
     "execution_count": 5,
     "metadata": {},
     "output_type": "execute_result"
    }
   ],
   "source": [
    "# already defined inputs\n",
    "num_images = 100\n",
    "num_rows = 256\n",
    "num_cols = 256\n",
    "num_channels = 3 #(RGB)\n",
    "\n",
    "# YOUR CODE HERE\n",
    "\n",
    "image_arr = np.random.random(size=(num_images, num_rows, num_cols, num_channels))\n",
    "print(f\"The shape of the array is: {image_arr.shape}\")"
   ]
  },
  {
   "cell_type": "markdown",
   "id": "19d7b075",
   "metadata": {},
   "source": [
    "---\n",
    "#### <span style=\"color:chocolate\">Exercise 5: </span>Mathematical operations on numpy arrays (15 points)"
   ]
  },
  {
   "cell_type": "markdown",
   "id": "b88b701f",
   "metadata": {},
   "source": [
    "Create a (3, 2) numpy array (you can name it my_array4) containing only integer values. Perform the following tasks:\n",
    "\n",
    "1. Print the shape of the array;\n",
    "2. Print the sum of all elements (hint: the axis argument is set to None);\n",
    "3. Print the sum of all elements by column;\n",
    "3. Print the sum of all elements by row and change the type of the resulting array elements to float;\n",
    "5. Print the first row of the array;\n",
    "6. Print the second row of the array;\n",
    "7. Select the element at position (1, 0);\n",
    "8. Modify the element at position (2, 1) by setting its value to 10 and print the array again;\n",
    "9. Loop over elements in the array. Print the output."
   ]
  },
  {
   "cell_type": "code",
   "execution_count": 58,
   "id": "5efe6c22",
   "metadata": {},
   "outputs": [
    {
     "name": "stdout",
     "output_type": "stream",
     "text": [
      "[[4 3]\n",
      " [5 1]\n",
      " [3 5]]\n",
      "Print-outs for my_array4\n",
      "Shape: (3, 2)\n",
      "Sum of all elements: 21\n",
      "Sum by column (summing row values for each col): [12  9]\n",
      "Sum by row (summing col values for each row)\n",
      " and convert to floats: [7. 6. 8.]\n",
      "First row of my_array4: [4 3]\n",
      "Second row of my_array4: [5 1]\n"
     ]
    }
   ],
   "source": [
    "# YOUR CODE HERE\n",
    "# Creating the array\n",
    "my_array4 = np.random.randint(0, 6, size=(3, 2))\n",
    "print(my_array4)\n",
    "print(\"Print-outs for my_array4\")\n",
    "print(f\"Shape: {my_array4.shape}\")\n",
    "print(f\"Sum of all elements: {my_array4.sum(axis=None)}\")\n",
    "\n",
    "print(f\"Sum by column (summing row values for each col): {my_array4.sum(axis=0)}\")\n",
    "\n",
    "print(f\"Sum by row (summing col values for each row)\\n and convert to floats: {my_array4.sum(axis=1).astype(float)}\")\n",
    "\n",
    "print(f\"First row of my_array4: {my_array4[0,]}\")\n",
    "\n",
    "print(f\"Second row of my_array4: {my_array4[1]}\")\n"
   ]
  },
  {
   "cell_type": "markdown",
   "id": "7a7e249a",
   "metadata": {},
   "source": [
    "You can find more examples here: https://numpy.org/doc/stable/reference/routines.math.html"
   ]
  },
  {
   "cell_type": "markdown",
   "id": "7f71edb9",
   "metadata": {},
   "source": [
    "---\n",
    "#### <span style=\"color:chocolate\">Exercise 6:</span> Create arrays (15 points)\n",
    "\n",
    "1. Create and print a (3,2) numpy array of pixel values between 0 and 1.\n",
    "2. Create and print a (27,) numpy array representing years from 1991 to 2017\n",
    "3. Create and print a (3, 5, 10) numpy array of zeros\n",
    "4. Create and print a (3, 5, 10) numpy array of ones\n",
    "5. Create and print an array with a constant value (let's say 5) using np.ones()\n",
    "6. Create and print an array with random numbers drawn from a normal distribution with mean 0 and standard deviation 1. Set the sample size to 10.\n"
   ]
  },
  {
   "cell_type": "code",
   "execution_count": null,
   "id": "b1bf53cb",
   "metadata": {},
   "outputs": [],
   "source": [
    "# YOUR CODE HERE"
   ]
  },
  {
   "cell_type": "markdown",
   "id": "4fd05963",
   "metadata": {},
   "source": [
    "---\n",
    "#### <span style=\"color:chocolate\">Exercise 7:</span> Reshape arrays (10 points)"
   ]
  },
  {
   "cell_type": "markdown",
   "id": "e139e4eb",
   "metadata": {},
   "source": [
    "Consider the following array:"
   ]
  },
  {
   "cell_type": "code",
   "execution_count": null,
   "id": "a5a192dc",
   "metadata": {},
   "outputs": [],
   "source": [
    "years = np.arange(1991, 2018, 1)\n",
    "print(years.shape)"
   ]
  },
  {
   "cell_type": "markdown",
   "id": "d3255640",
   "metadata": {},
   "source": [
    "Perform the following operations on this array:\n",
    "    \n",
    "1. Create 3 nested arrays, each of size (3, 3). Call this array years_3d;\n",
    "2. Convert the years_3d array to a flat 1D array. Call this array years_1d;\n",
    "3. Add a new axis (in front) to the years_1d array. Call this array years_2d;\n",
    "4. Remove the first axis from years_2d array. Call this array years_1d.\n",
    "\n",
    "For each exercise print the array and its shape."
   ]
  },
  {
   "cell_type": "code",
   "execution_count": null,
   "id": "ab18878a",
   "metadata": {},
   "outputs": [],
   "source": [
    "# YOUR CODE HERE"
   ]
  },
  {
   "cell_type": "markdown",
   "id": "6a3a4011",
   "metadata": {},
   "source": [
    "---\n",
    "#### <span style=\"color:chocolate\">Exercise 8:</span> Joining arrays (10 points)"
   ]
  },
  {
   "cell_type": "markdown",
   "id": "5382a84a",
   "metadata": {},
   "source": [
    "Provide 8 examples that use the methods <span style=\"color:cornflowerBlue\">np.concatenate()</span> and <span style=\"color:cornflowerBlue\">np.stack()</span>. Note: create 4 examples using each method."
   ]
  },
  {
   "cell_type": "code",
   "execution_count": null,
   "id": "a9c2ff1a",
   "metadata": {},
   "outputs": [],
   "source": [
    "# YOUR CODE HERE"
   ]
  },
  {
   "cell_type": "markdown",
   "id": "7780b5b8",
   "metadata": {},
   "source": [
    "---\n",
    "#### <span style=\"color:chocolate\">Numpy broadcasting</span> "
   ]
  },
  {
   "cell_type": "markdown",
   "id": "d105a999",
   "metadata": {},
   "source": [
    "The term broadcasting describes how NumPy treats arrays during arithmetic operations. You can find more here:  https://numpy.org/doc/stable/user/basics.broadcasting.html"
   ]
  },
  {
   "cell_type": "code",
   "execution_count": null,
   "id": "ce9ca817",
   "metadata": {},
   "outputs": [],
   "source": [
    "# multiplying an array with a scalar\n",
    "years = np.arange(1991, 2018, 1)\n",
    "years * 1"
   ]
  },
  {
   "cell_type": "code",
   "execution_count": null,
   "id": "d2150eb6",
   "metadata": {},
   "outputs": [],
   "source": [
    "# adding a scalar\n",
    "years + 2"
   ]
  },
  {
   "cell_type": "code",
   "execution_count": null,
   "id": "d7319a34",
   "metadata": {},
   "outputs": [],
   "source": [
    "# many arithmetic operations are applied element wise on a pair of arrays\n",
    "a = np.arange(3)\n",
    "print('Array a:', a)\n",
    "b = np.arange(3)\n",
    "print('Array b:', b)\n",
    "print('Sum of a and b:', a+b)"
   ]
  },
  {
   "cell_type": "code",
   "execution_count": null,
   "id": "44ac94cd",
   "metadata": {},
   "outputs": [],
   "source": [
    "# another example\n",
    "a = np.ones((3, 3))\n",
    "print('Array a:', a)\n",
    "b = np.arange(3)\n",
    "print('\\nArray b:', b)\n",
    "print('\\nSum of a and b:', a+b)"
   ]
  },
  {
   "cell_type": "markdown",
   "id": "85e7d3c8",
   "metadata": {},
   "source": [
    "---\n",
    "#### <span style=\"color:chocolate\">Exercise 9:</span> Numpy array standardization (10 points)"
   ]
  },
  {
   "cell_type": "markdown",
   "id": "9bccc9d7",
   "metadata": {},
   "source": [
    "Consider the following (10, 4) array:"
   ]
  },
  {
   "cell_type": "code",
   "execution_count": null,
   "id": "02a2102e",
   "metadata": {},
   "outputs": [],
   "source": [
    "my_array = np.random.random((10, 4))\n",
    "print('my_array shape: ', my_array.shape)\n",
    "my_array"
   ]
  },
  {
   "cell_type": "markdown",
   "id": "c505935d",
   "metadata": {},
   "source": [
    "Peform the following operations on this array:\n",
    "1. Compute and print the mean and std for each column (note: set keepdims=True for proper broadcasting).\n",
    "2. Standardize and print the array and its shape using the mean and std you computed above."
   ]
  },
  {
   "cell_type": "code",
   "execution_count": null,
   "id": "5a88c63d",
   "metadata": {},
   "outputs": [],
   "source": [
    "# YOUR CODE HERE"
   ]
  },
  {
   "cell_type": "markdown",
   "id": "ebe2eaa0",
   "metadata": {},
   "source": [
    "----\n",
    "#### <span style=\"color:chocolate\">Additional practice question</span> (not graded)"
   ]
  },
  {
   "cell_type": "markdown",
   "id": "d43bdaa7",
   "metadata": {},
   "source": [
    "Consider the following image:"
   ]
  },
  {
   "cell_type": "code",
   "execution_count": null,
   "id": "e7c61c06",
   "metadata": {},
   "outputs": [],
   "source": [
    "my_image = np.arange(0, 1, 0.04).reshape(5,5)\n",
    "print(my_image)\n",
    "my_image.shape"
   ]
  },
  {
   "cell_type": "markdown",
   "id": "78f029bd",
   "metadata": {},
   "source": [
    "Perform the following operations on this image (do not overwrite the original image):\n",
    "\n",
    "1. Crop by using a border of size 1;\n",
    "2. Crop by removing:\n",
    "    * the first and the last two rows, and\n",
    "    * the first and the last two columns;\n",
    "3. Reverse the column order;\n",
    "4. set to 0.5 elements divizible by 2."
   ]
  },
  {
   "cell_type": "code",
   "execution_count": null,
   "id": "d7dadfcf",
   "metadata": {},
   "outputs": [],
   "source": [
    "# YOUR CODE HERE"
   ]
  }
 ],
 "metadata": {
  "kernelspec": {
   "display_name": "venv",
   "language": "python",
   "name": "python3"
  },
  "language_info": {
   "codemirror_mode": {
    "name": "ipython",
    "version": 3
   },
   "file_extension": ".py",
   "mimetype": "text/x-python",
   "name": "python",
   "nbconvert_exporter": "python",
   "pygments_lexer": "ipython3",
   "version": "3.12.1"
  }
 },
 "nbformat": 4,
 "nbformat_minor": 5
}
