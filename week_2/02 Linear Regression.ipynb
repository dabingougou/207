{
 "cells": [
  {
   "cell_type": "markdown",
   "metadata": {
    "id": "rHLcriKWLRe4"
   },
   "source": [
    "# Assignement 2"
   ]
  },
  {
   "cell_type": "markdown",
   "metadata": {},
   "source": [
    "### <span style=\"color:chocolate\"> Submission requirements </span>\n",
    "\n",
    "Your homework will not be graded if your notebook doesn't include output. In other words, <span style=\"color:red\"> make sure to rerun your notebook before submitting to Gradescope </span> (Note: if you are using Google Colab: go to Edit > Notebook Settings  and uncheck Omit code cell output when saving this notebook, otherwise the output is not printed).\n",
    "\n",
    "Additional points may be deducted if these requirements are not met:\n",
    "\n",
    "    \n",
    "* Comment your code;\n",
    "* Each graph should have a title, labels for each axis, and (if needed) a legend. Each graph should be understandable on its own;\n",
    "* Try and minimize the use of the global namespace (meaning, keep things inside functions).\n",
    "---"
   ]
  },
  {
   "cell_type": "markdown",
   "metadata": {},
   "source": [
    "### Import libraries"
   ]
  },
  {
   "cell_type": "code",
   "execution_count": 1,
   "metadata": {
    "id": "7X58hOMTUH-w"
   },
   "outputs": [],
   "source": [
    "import numpy as np\n",
    "from sklearn.model_selection import train_test_split\n",
    "from sklearn.metrics import mean_squared_error\n",
    "import matplotlib.pyplot as plt"
   ]
  },
  {
   "cell_type": "markdown",
   "metadata": {},
   "source": [
    "### Define functions"
   ]
  },
  {
   "cell_type": "code",
   "execution_count": 2,
   "metadata": {},
   "outputs": [],
   "source": [
    "def create_1d_data(num_examples, w, b, bound):\n",
    "  \"\"\"Create X, Y data with a linear relationship with added noise.\n",
    "\n",
    "  Args:\n",
    "    num_examples: number of examples to generate\n",
    "    w: desired slope\n",
    "    b: desired intercept\n",
    "    bound: lower and upper boundary of the data interval\n",
    "\n",
    "  Returns:\n",
    "    X and Y with shape (num_examples)\n",
    "  \"\"\"\n",
    "  np.random.seed(4)  # consistent random number generation\n",
    "  X = np.arange(num_examples)\n",
    "  deltas = np.random.uniform(low=-bound, high=bound, size=X.shape) # added noise\n",
    "  Y = b + deltas + w * X\n",
    "\n",
    "  return X, Y"
   ]
  },
  {
   "cell_type": "markdown",
   "metadata": {},
   "source": [
    "---\n",
    "### Step 1: Data ingestion"
   ]
  },
  {
   "cell_type": "markdown",
   "metadata": {},
   "source": [
    "Let's start by creating some artificial data using the <span style=\"color:chocolate\">create_1d_data()</span> function defined at the top of the notebook."
   ]
  },
  {
   "cell_type": "code",
   "execution_count": 3,
   "metadata": {
    "id": "6qJg0IiYVJ8U"
   },
   "outputs": [
    {
     "name": "stdout",
     "output_type": "stream",
     "text": [
      "Printing shape of X: (70,)\n",
      "Printing first 10 elements in X: [0 1 2 3 4 5 6 7 8 9]\n",
      "\n",
      "Printing shape of Y: (70,)\n",
      "Printing first 10 elements in Y: [ 1.93405968  3.0944645   5.94536872  7.42963199  9.39545765 10.43217899\n",
      " 13.95254891 14.01246051 16.50596472 18.86958306]\n"
     ]
    }
   ],
   "source": [
    "# Define parameters\n",
    "num_examples = 70\n",
    "w = 2\n",
    "b = 1\n",
    "bound = 1\n",
    "\n",
    "# Create data\n",
    "X, Y = create_1d_data(num_examples, w, b, bound)\n",
    "\n",
    "# Print shapes\n",
    "print('Printing shape of X:', X.shape)\n",
    "print('Printing first 10 elements in X:', X[:10])\n",
    "print('\\nPrinting shape of Y:', Y.shape)\n",
    "print('Printing first 10 elements in Y:', Y[:10])"
   ]
  },
  {
   "cell_type": "markdown",
   "metadata": {
    "id": "8NXo1n9j1LMT"
   },
   "source": [
    "---\n",
    "### Step 2: Data Preprocessing"
   ]
  },
  {
   "cell_type": "markdown",
   "metadata": {},
   "source": [
    "Our objectives here involve adding one more feature to X and creating data partitions."
   ]
  },
  {
   "cell_type": "markdown",
   "metadata": {},
   "source": [
    "### <span style=\"color:chocolate\">Exercise 1:</span> Adding features (10 points)"
   ]
  },
  {
   "cell_type": "markdown",
   "metadata": {},
   "source": [
    "1. Add a column of $1s$ to $X$ (this will serve as an intercept or \"bias\" in our modeling task later on). Note: do not create a new array, just concatenate with the current values;\n",
    "2. Print the shape of the array."
   ]
  },
  {
   "cell_type": "code",
   "execution_count": 4,
   "metadata": {},
   "outputs": [
    {
     "name": "stdout",
     "output_type": "stream",
     "text": [
      "Shape of X: (70, 2)\n",
      "First 5 rows of X after concat:\n",
      "[[1. 0.]\n",
      " [1. 1.]\n",
      " [1. 2.]\n",
      " [1. 3.]\n",
      " [1. 4.]]\n"
     ]
    }
   ],
   "source": [
    "# YOUR CODE HERE\n",
    "\n",
    "# Note that X.shape is (70,)\n",
    "# In the spirit of minimizing gloabl namespace, define functions to add bias vector\n",
    "\n",
    "# First define a function to create a vector of ones: \n",
    "def create_bias_vec(num_examples):\n",
    "    \"\"\"  \n",
    "    Returns a NumPy array of ones of shape (num_examples, )\n",
    "    Args:\n",
    "        num_examples \n",
    "    \"\"\"\n",
    "    return np.ones(shape=num_examples)\n",
    "\n",
    "# Then define a function that adds the vector of ones to the input matrix\n",
    "def concat_bias_vec(input_without_bias):\n",
    "    \"\"\"  \n",
    "    Return an input matrix (m - 1, n) array the bias vector of ones\n",
    "    In this homework problem n = 2\n",
    "    Args:\n",
    "        the input matrix (m - 1, n - 1) where there are m examples and n features including the bias\n",
    "    \"\"\"\n",
    "    return np.stack(arrays=(create_bias_vec(input_without_bias.shape[0]), input_without_bias),\n",
    "             axis=1)\n",
    "\n",
    "# Print out the shape of the augmented input array            \n",
    "X = concat_bias_vec(X)\n",
    "print(\"Shape of X:\", X.shape)\n",
    "print(f\"First 5 rows of X after concat:\\n{X[0:5,:]}\")"
   ]
  },
  {
   "cell_type": "markdown",
   "metadata": {},
   "source": [
    "### <span style=\"color:chocolate\">Exercise 2:</span> Data splits (10 points)"
   ]
  },
  {
   "cell_type": "markdown",
   "metadata": {},
   "source": [
    "Using the <span style=\"color:chocolate\">train_test_split()</span> method available in scikit-learn:\n",
    "1. Split the (X,Y) data into training and test paritions by setting test_size=0.2 and random_state=1234. All the other arguments of the method are set to default values. Name the resulting arrays X_train, X_test, Y_train, Y_test;\n",
    "2. Print the shape of each array."
   ]
  },
  {
   "cell_type": "code",
   "execution_count": 5,
   "metadata": {},
   "outputs": [
    {
     "name": "stdout",
     "output_type": "stream",
     "text": [
      "X_train shape: (56, 2)\n",
      "X_test shape: (14, 2)\n",
      "Y_train shape: (56,)\n",
      "X_test shape: (14,)\n"
     ]
    }
   ],
   "source": [
    "# YOUR CODE HERE\n",
    "\n",
    "# Split (X, Y) using the train_test_split() function\n",
    "X_train, X_test, Y_train, Y_test = train_test_split(\n",
    "    X, Y,\n",
    "    test_size=0.2,\n",
    "    random_state=1234)\n",
    "\n",
    "# Print out split outptu\n",
    "print(\"X_train shape:\", X_train.shape)\n",
    "print(\"X_test shape:\", X_test.shape)\n",
    "print(\"Y_train shape:\", Y_train.shape)\n",
    "print(\"X_test shape:\", Y_test.shape)\n",
    "\n"
   ]
  },
  {
   "cell_type": "markdown",
   "metadata": {},
   "source": [
    "---\n",
    "### Step 3: Exploratory data analysis (EDA)"
   ]
  },
  {
   "cell_type": "markdown",
   "metadata": {},
   "source": [
    "### <span style=\"color:chocolate\">Exercise 3:</span> Plots (10 points)"
   ]
  },
  {
   "cell_type": "markdown",
   "metadata": {},
   "source": [
    "Create a side-by-side histogram for the values in Y_train and X_train. Make sure to include axes name and titles for each subplot."
   ]
  },
  {
   "cell_type": "code",
   "execution_count": 6,
   "metadata": {},
   "outputs": [
    {
     "data": {
      "image/png": "[encoded data removed]",
      "text/plain": [
       "<Figure size 1200x400 with 2 Axes>"
      ]
     },
     "metadata": {},
     "output_type": "display_data"
    }
   ],
   "source": [
    "# YOUR CODE HERE\n",
    "\n",
    "# By side-by-side, I assume a 1-by-2 subplots is the desired layout.\n",
    "fig, ax = plt.subplots(1, 2, figsize=(12, 4))\n",
    "\n",
    "# Plot the histograms\n",
    "ax[0].hist(Y_train,\n",
    "           bins=30,\n",
    "           label=f\"Sample size {Y_train.shape[0]}\")\n",
    "ax[1].hist(X_train[:,1],\n",
    "           bins=30,\n",
    "           color='purple',\n",
    "           label=f\"Sample size {X_train.shape[0]}\")\n",
    "\n",
    "# Add labels for axes\n",
    "ax[0].set_xlabel(\"Y_train\")\n",
    "ax[1].set_xlabel(\"X_train\")\n",
    "\n",
    "ax[0].set_ylabel(\"Frequency\")\n",
    "ax[1].set_ylabel(\"Frequency\")\n",
    "\n",
    "# Add title\n",
    "ax[0].set_title(\"Distribution of Y_train\")\n",
    "ax[1].set_title(\"Distribution of X_train\")\n",
    "\n",
    "ax[0].legend(loc=(-0.1, 1.02),\n",
    "             fontsize=8)\n",
    "ax[1].legend(loc=(-0.1, 1.02),\n",
    "             fontsize=8)\n",
    "plt.show()"
   ]
  },
  {
   "cell_type": "markdown",
   "metadata": {},
   "source": [
    "---\n",
    "### Step 4: Modeling"
   ]
  },
  {
   "cell_type": "markdown",
   "metadata": {},
   "source": [
    "Let's start by considering the two models proposed in Assignment 1:\n",
    "1. $M_1(x) = 5+x$ \n",
    "2. $M_2(x) = 1+2x$"
   ]
  },
  {
   "cell_type": "markdown",
   "metadata": {},
   "source": [
    "### <span style=\"color:chocolate\">Exercise 4:</span> Practice with Parameters (10 points)"
   ]
  },
  {
   "cell_type": "markdown",
   "metadata": {},
   "source": [
    "Perform the following computations:\n",
    "\n",
    "1. Use matrix multiplication (np.dot) to create $M_1$ and $M_2$ (as previously defined) to produce vectors of predictions using the X_train data. Call these predictions M1_hat_train, M2_hat_train. Hint: the \"learned\" parameters are alredy provided to you;\n",
    "3. Print the shapes of the predictions to verify that they match the shape of Y_train."
   ]
  },
  {
   "cell_type": "code",
   "execution_count": 7,
   "metadata": {
    "id": "aBEZ_QOX6qOi"
   },
   "outputs": [
    {
     "name": "stdout",
     "output_type": "stream",
     "text": [
      "M1_hat_train shape: (56,)\n",
      "M2_hat_train shape: (56,)\n",
      "**************************************************\n",
      "Y_train shape: (56,)\n"
     ]
    }
   ],
   "source": [
    "# YOUR CODE HERE\n",
    "\n",
    "# First creating the weights vector for each model\n",
    "W1 = np.array([5, 1])\n",
    "W2 = np.array([1, 2])\n",
    "\n",
    "# Define a function that compute predictions given input and weights\n",
    "def model_prediction(input_array, W):\n",
    "    \"\"\"  \n",
    "    Return (n,) np array predicted values\n",
    "    Args:\n",
    "        W: (m,) array representing weights.\n",
    "        input_array: (n, m) array where n is the number of examples\n",
    "            and m is the number of features including the bias\n",
    "    \"\"\"\n",
    "    return np.dot(input_array, W)\n",
    "\n",
    "# Compute predictions\n",
    "M1_hat_train = model_prediction(X_train, W1)\n",
    "M2_hat_train = model_prediction(X_train, W2)\n",
    "\n",
    "# Check the shapes are consistent\n",
    "print(\"M1_hat_train shape:\", M1_hat_train.shape)\n",
    "print(\"M2_hat_train shape:\", M2_hat_train.shape)\n",
    "print(50*\"*\")\n",
    "print(\"Y_train shape:\", Y_train.shape)"
   ]
  },
  {
   "cell_type": "markdown",
   "metadata": {},
   "source": [
    "### <span style=\"color:chocolate\">Exercise 5:</span> Learn parameters with Gradient Descent (20 points)"
   ]
  },
  {
   "cell_type": "markdown",
   "metadata": {
    "id": "QaXYiTm9ftRf"
   },
   "source": [
    "1. Fill in the <span style=\"color:green\">NotImplemented</span> parts of the <span style=\"color:chocolate\">gradient_descent()</span> function below. Hint: refer to ``02 Linear Regression_helper.ipynb file``;\n",
    "\n",
    "2. Run this function with our artificial (X_train, Y_train) data . Set learning_rate = .0002 and num_epochs = 5. Print out the weights and loss after each epoch. \n",
    "\n",
    "3. Generate a plot with the loss values on the y-axis and the epoch number on the x-axis for visualization. Make sure to include axes name and title."
   ]
  },
  {
   "cell_type": "code",
   "execution_count": 8,
   "metadata": {},
   "outputs": [],
   "source": [
    "def gradient_descent(inputs, outputs, learning_rate, num_epochs):\n",
    "  \"\"\"Apply the gradient descent algorithm to learn learn linear regression.\n",
    "\n",
    "  Args:\n",
    "    inputs: A 2-D array where each column is an input feature and each\n",
    "            row is a training example.\n",
    "    outputs: A 1-D array containing the real-valued\n",
    "             label corresponding to the input data in the same row.\n",
    "    learning_rate: The learning rate to use for updates.\n",
    "    num_epochs: The number of passes through the full training data.\n",
    "\n",
    "  Returns:\n",
    "    weights: A 2-D array with the learned weights after each training epoch.\n",
    "    losses: A 1-D array with the loss after each epoch.\n",
    "  \"\"\"\n",
    "  # m = number of examples, n = number of features\n",
    "  m, n = inputs.shape\n",
    "  \n",
    "  # We'll use a vector of size n to store the learned weights and initialize\n",
    "  # all weights to 1. \n",
    "  W = np.ones(n)\n",
    "  \n",
    "  # Keep track of the training loss and weights after each step.\n",
    "  losses = []\n",
    "  weights = []\n",
    "  \n",
    "  for epoch in range(num_epochs):\n",
    "    # Append the old weights to the weights list to keep track of them.\n",
    "    weights.append(W)\n",
    "\n",
    "    # Evaluate the current predictions for the training examples given\n",
    "    # the current estimate of W. \n",
    "    predictions = model_prediction(inputs, W)\n",
    "    \n",
    "    # Find the difference between the predictions and the actual target\n",
    "    # values.\n",
    "    diff = predictions - outputs\n",
    "    \n",
    "    # In standard linear regression, we want to minimize the sum of squared\n",
    "    # differences. Compute the mean squared error loss. Don't bother with the\n",
    "    # 1/2 scaling factor here.\n",
    "    loss = (1 / m) * np.square(diff).sum()\n",
    "    # Append the loss to the losses list to keep a track of it.\n",
    "    losses.append(loss)\n",
    "    \n",
    "    # Compute the gradient with respect to the loss.\n",
    "    # [Formula (4) in the Gradient Descent Implementation]\n",
    "\n",
    "    # 'inputs' is m (num_examples) by n (num_features)\n",
    "    # Output is n by 1\n",
    "    gradient = inputs.T @ (inputs @ W - outputs)\n",
    "\n",
    "    # Update weights, scaling the gradient by the learning rate.\n",
    "    W = W - learning_rate * gradient\n",
    "      \n",
    "  return np.array(weights), np.array(losses)"
   ]
  },
  {
   "cell_type": "code",
   "execution_count": 9,
   "metadata": {},
   "outputs": [
    {
     "data": {
      "text/plain": [
       "<matplotlib.legend.Legend at 0x7c78c3a56fc0>"
      ]
     },
     "execution_count": 9,
     "metadata": {},
     "output_type": "execute_result"
    },
    {
     "data": {
      "image/png": "[encoded data removed]",
      "text/plain": [
       "<Figure size 640x480 with 1 Axes>"
      ]
     },
     "metadata": {},
     "output_type": "display_data"
    }
   ],
   "source": [
    "\n",
    "# Running the code with given hyperparameters\n",
    "gradient_descent_output = gradient_descent(X_train, Y_train, 0.0002, 5)\n",
    "\n",
    "# Plot loss against epochs\n",
    "fig, ax = plt.subplots()\n",
    "\n",
    "# The number of epochs in plt.plot() is given by num_epochs (= gradient_descent_output[0].shape[0])\n",
    "plt.plot(np.arange(1, gradient_descent_output[0].shape[0] + 1), \n",
    "         gradient_descent_output[1],\n",
    "         label=\"MSE Loss\")\n",
    "\n",
    "# Set title\n",
    "ax.set_title(\"MSE Loss v.s. epoch number; learning_rate = 0.0002\")\n",
    "\n",
    "# Set labels\n",
    "ax.set_xlabel(\"Number of Epoch\")\n",
    "ax.set_ylabel(\"MSE Loss\")\n",
    "\n",
    "# Add legend showing hyperparameters\n",
    "ax.legend()"
   ]
  },
  {
   "cell_type": "markdown",
   "metadata": {},
   "source": [
    "## Exercise 5 and the plot above, comment\n",
    "\n",
    "Given the hyperparameters, loss blows up and the shape of the loss function is so because the loss increase between epochs 4 and 5 are particularly large compared with previous epochs."
   ]
  },
  {
   "cell_type": "markdown",
   "metadata": {},
   "source": [
    "---\n",
    "### Step 5: Hyperparameter tuning"
   ]
  },
  {
   "cell_type": "markdown",
   "metadata": {},
   "source": [
    "Hyperparameter tuning plays an important role in optimizing ML models. One systematically adjusts hyperparameters to find the right balance between model complexity and generalization, ultimately leading to better predictive performance and model effectiveness.\n",
    "\n",
    "Note that hyperparameter tuning is typically performed on **a separate validation dataset**. However, for the purposes of this assignment and based on the ML knowledge you've acquired thus far, we will perform hyperparameter tuning directly on the training data."
   ]
  },
  {
   "cell_type": "markdown",
   "metadata": {},
   "source": [
    "### <span style=\"color:chocolate\">Exercise 6:</span> Tuning hyperparameters (10 points)"
   ]
  },
  {
   "cell_type": "markdown",
   "metadata": {},
   "source": [
    "Answer the following questions:\n",
    "    \n",
    "1. Do you think it would be beneficial to extend the model training in Exercise 5 by increasing the learning rate to 0.02? Justify your answer;\n",
    "\n",
    "2. Restoring to the previous learning_rate = .0002, would you  consider extending the model training in Exercise 5 by increasing the number of epochs to 10? Justify your answer.\n",
    "\n",
    "Note: to support your answers, we recommend the following actions:\n",
    "- create side-by-side subplots to show the loss at each epoch (make sure to include axes name and title), and\n",
    "- print the loss at the last epoch under the following scenarios:\n",
    "    - learning_rate=.0002, num_epochs=5;\n",
    "    - learning_rate=.02, num_epochs=5;\n",
    "    - learning_rate=.0002, num_epochs=10."
   ]
  },
  {
   "cell_type": "markdown",
   "metadata": {},
   "source": [
    "## Exercise 6 Answers and Comments\n",
    "\n",
    "### 1. I do not think increasing learning_rate from 0.002 to 0.02 is beneficial in this particular case. As shown below, when learning rate is increased to 0.02, the rate of **divergence** is even greater.\n",
    "\n",
    "### 2. Again, using the given hyperparameters, increasing the number of epochs (also shown in the plot below) would lead to a greater loss. **However**, I further explored more hyperparameters and one configuration converged in less than 20 epochs. In that case, increasing the number of epochs and see big improvements."
   ]
  },
  {
   "cell_type": "code",
   "execution_count": 10,
   "metadata": {},
   "outputs": [
    {
     "data": {
      "image/png": "[encoded data removed]",
      "text/plain": [
       "<Figure size 1200x400 with 3 Axes>"
      ]
     },
     "metadata": {},
     "output_type": "display_data"
    }
   ],
   "source": [
    "# YOUR CODE HERE\n",
    "\n",
    "# Store hyperparameters in a list\n",
    "hyperparameter_list = [[0.0002, 5],\n",
    "                       [0.02, 5],\n",
    "                       [0.0002, 10]]\n",
    "\n",
    "# Plot\n",
    "fig, ax = plt.subplots(1, len(hyperparameter_list),\n",
    "                       figsize=(12, 4))\n",
    "\n",
    "\n",
    "# Loop through configurations and plot the loss for each\n",
    "for i, row in enumerate(hyperparameter_list):\n",
    "    ax[i].plot(np.arange(1, row[1] + 1),\n",
    "               gradient_descent(X_train, Y_train, \n",
    "                                learning_rate=row[0],\n",
    "                                num_epochs=row[1])[1],\n",
    "                label=\"MSE Loss\",\n",
    "                color=\"purple\")\n",
    "\n",
    "    ax[i].set_xlabel(\"Number of Epochs\")\n",
    "    ax[i].legend(title=f'learning_rate = {hyperparameter_list[i][0]}\\nnum_epochs= {hyperparameter_list[i][1]}')\n",
    "# I add only one y-axis label for the 3 subplots for aesthetic/practical reasons\n",
    "ax[0].set_ylabel(\"MSE Loss\")\n",
    "plt.show()\n",
    "\n"
   ]
  },
  {
   "cell_type": "markdown",
   "metadata": {},
   "source": [
    "## The next code cell is **NOT ASKED** in the question statement but I plot it for my own benefit"
   ]
  },
  {
   "cell_type": "code",
   "execution_count": 11,
   "metadata": {},
   "outputs": [
    {
     "data": {
      "image/png": "[encoded data removed]",
      "text/plain": [
       "<Figure size 1200x400 with 3 Axes>"
      ]
     },
     "metadata": {},
     "output_type": "display_data"
    }
   ],
   "source": [
    "\n",
    "# Since the given hyperparameters all blow the loss function up, I added a new set of hyperparameters\n",
    "\n",
    "hyperparameter_list = [[0.0002, 20],\n",
    "                       [0.00002, 20],\n",
    "                       [0.000002, 20]]\n",
    "\n",
    "fig, ax = plt.subplots(1, len(hyperparameter_list),\n",
    "                       figsize=(12, 4))\n",
    "\n",
    "for i, row in enumerate(hyperparameter_list):\n",
    "    ax[i].plot(np.arange(1, row[1] + 1),\n",
    "               gradient_descent(X_train, Y_train, \n",
    "                                learning_rate=row[0],\n",
    "                                num_epochs=row[1])[1],\n",
    "                label=\"MSE Loss\")\n",
    "    ax[i].set_xlabel(\"Number of Epochs\")\n",
    "    ax[i].legend(title=f'learning_rate = {hyperparameter_list[i][0]}\\nnum_epochs= {hyperparameter_list[i][1]}')\n",
    "ax[0].set_ylabel(\"MSE Loss\")\n",
    "plt.show()"
   ]
  },
  {
   "cell_type": "markdown",
   "metadata": {},
   "source": [
    "## Exercise 6 Comments Part 2\n",
    "\n",
    "### In this case, the last (on the right) configuration leads to convergence and it is beneficial to increase num_epochs from 5 to 10."
   ]
  },
  {
   "cell_type": "markdown",
   "metadata": {},
   "source": [
    "### <span style=\"color:chocolate\">Exercise 7:</span> Choosing the best model (10 points)"
   ]
  },
  {
   "cell_type": "markdown",
   "metadata": {},
   "source": [
    "## There was some ambiguity about whether or not *we can* explore more configurations outside the ones given in the problem statement. I proceed with the assumption that we can. "
   ]
  },
  {
   "cell_type": "markdown",
   "metadata": {},
   "source": [
    "Write down the learned model that you consider most optimal given your answers to the hyperparameter tuning exercise. Call this model $M_3(x)$."
   ]
  },
  {
   "cell_type": "code",
   "execution_count": 12,
   "metadata": {},
   "outputs": [
    {
     "name": "stdout",
     "output_type": "stream",
     "text": [
      "The best model is M_3 = 1.021 + 1.981x.\n"
     ]
    }
   ],
   "source": [
    "# YOUR ANSWER HERE\n",
    "\n",
    "# I assume in this exercise, 'best' is in the sense of training (not generalizing).\n",
    "history = gradient_descent(X_train, Y_train,\n",
    "                 learning_rate=0.000002,\n",
    "                 num_epochs=20)\n",
    "#$$gradient_descent$$\n",
    "#history.shape\n",
    "best_weights = history[0][-1]\n",
    "best_weights[0]\n",
    "print(f'The best model is M_3 = {best_weights[0]:.3f} + {best_weights[1]:.3f}x.')"
   ]
  },
  {
   "cell_type": "markdown",
   "metadata": {},
   "source": [
    "## Comment: Best Model\n",
    "\n",
    "The best model, if we are allowed to explore just a little beyond the given hyperparameters, is given by\n",
    "$$ learning\\_rate = 0.000002 $$\n",
    "$$ num\\_epochs = 20$$\n",
    "\n",
    "### But if limited to the given hyperparameters:\n",
    "$$ learning\\_rate = 0.002 $$\n",
    "$$ num\\_epochs = 5$$\n",
    "Although all three parameter combinations (in the given hyperparameters) blow loss up, **best** can be determined from the one that has the smallest loss; however, in this case, the number of epoch that results in the smallest loss is the first epoch. This doesn't make good sense. So I picked the **weights learned from** the first set of hyperparameters (in this markdown cell) to be the best model."
   ]
  },
  {
   "cell_type": "markdown",
   "metadata": {},
   "source": [
    "---\n",
    "### Step 6: Evaluation and Generalization"
   ]
  },
  {
   "cell_type": "markdown",
   "metadata": {},
   "source": [
    "To evaluate our models, we assess their performance based on how closely they fit the available data. In other words, we compare the true value $y$ with the predicted value $\\hat{y}$ for each $x$."
   ]
  },
  {
   "cell_type": "markdown",
   "metadata": {},
   "source": [
    "### <span style=\"color:chocolate\">Exercise 8:</span> Computing MSE (10 points)"
   ]
  },
  {
   "cell_type": "markdown",
   "metadata": {},
   "source": [
    "Assess the performance of the three models ($M_1(x)$, $M_2(x)$, $M_3(x)$) by computing the MSE metric on the training dataset. Hint: you can use the <span style=\"color:chocolate\">mean_squared_error()</span> method available in sklearn.metrics."
   ]
  },
  {
   "cell_type": "code",
   "execution_count": 13,
   "metadata": {},
   "outputs": [
    {
     "name": "stdout",
     "output_type": "stream",
     "text": [
      "3 sets of weights for W1, W2, and W3\n",
      "[5 1]\n",
      "[1 2]\n",
      "[1.02096335 1.98070032]\n",
      "**************************************************\n",
      "M1 MSE on TRAIN: 1397.61\n",
      "M2 MSE on TRAIN: 0.33\n",
      "M3 MSE on TRAIN: 0.99\n"
     ]
    }
   ],
   "source": [
    "# YOUR CODE HERE\n",
    "\n",
    "# Recall we've already defined W1 (weights for model 1) and W2.\n",
    "\n",
    "# Print the weights for M1, M2, and M3 for convenience\n",
    "print(\"3 sets of weights for W1, W2, and W3\")\n",
    "print(W1)\n",
    "print(W2)\n",
    "print(best_weights)\n",
    "\n",
    "# Compute mean_squared_error of the 3 models from the training \n",
    "MSE_M1_train = mean_squared_error(y_true=Y_train,\n",
    "                   y_pred=model_prediction(X_train, \n",
    "                                           W1))\n",
    "MSE_M2_train = mean_squared_error(y_true=Y_train,\n",
    "                   y_pred=model_prediction(X_train, \n",
    "                                           W2))\n",
    "MSE_M3_train = mean_squared_error(y_true=Y_train,\n",
    "                   y_pred=model_prediction(X_train, \n",
    "                                           best_weights))\n",
    "                                        \n",
    "# Print out results                                    \n",
    "print(50*\"*\")\n",
    "\n",
    "print(f\"M1 MSE on TRAIN: {MSE_M1_train:.2f}\")                                    \n",
    "print(f\"M2 MSE on TRAIN: {MSE_M2_train:.2f}\")                                    \n",
    "print(f\"M3 MSE on TRAIN: {MSE_M3_train:.2f}\")                                    \n",
    "\n"
   ]
  },
  {
   "cell_type": "markdown",
   "metadata": {},
   "source": [
    "### <span style=\"color:chocolate\">Exercise 9:</span> Generalization (10 points)"
   ]
  },
  {
   "cell_type": "markdown",
   "metadata": {},
   "source": [
    "Which of the three models ($M_1(x)$, $M_2(x)$, $M_3(x)$) demonstrates better generalization ability?"
   ]
  },
  {
   "cell_type": "code",
   "execution_count": 14,
   "metadata": {},
   "outputs": [
    {
     "name": "stdout",
     "output_type": "stream",
     "text": [
      "Test:\n",
      "M1 MSE on TEST: 1113.60\n",
      "M2 MSE on TEST: 0.29\n",
      "M3 MSE on TEST: 0.71\n",
      "**************************************************\n",
      "Train loss for referenc3:\n",
      "M1 MSE on TRAIN: 1397.61\n",
      "M2 MSE on TRAIN: 0.33\n",
      "M3 MSE on TRAIN: 0.99\n"
     ]
    }
   ],
   "source": [
    "# YOUR CODE HERE\n",
    "\n",
    "# To find which model generalizes better, MSE is computed for each model on 'test' \n",
    "MSE_M1_test = mean_squared_error(y_true=Y_test,\n",
    "                                y_pred=model_prediction(X_test, W1))\n",
    "MSE_M2_test = mean_squared_error(y_true=Y_test,\n",
    "                                y_pred=model_prediction(X_test, W2))\n",
    "MSE_M3_test = mean_squared_error(y_true=Y_test,\n",
    "                                y_pred=model_prediction(X_test, best_weights))\n",
    "                                        \n",
    "# Print out results                                        \n",
    "print(\"Test:\")\n",
    "print(f\"M1 MSE on TEST: {MSE_M1_test:.2f}\")                                    \n",
    "print(f\"M2 MSE on TEST: {MSE_M2_test:.2f}\")                                    \n",
    "print(f\"M3 MSE on TEST: {MSE_M3_test:.2f}\")                                    \n",
    "\n",
    "\n",
    "# Print out training loss too for reference\n",
    "print(50*\"*\")\n",
    "print(\"Train loss for referenc3:\")\n",
    "print(f\"M1 MSE on TRAIN: {MSE_M1_train:.2f}\")                                    \n",
    "print(f\"M2 MSE on TRAIN: {MSE_M2_train:.2f}\")                                    \n",
    "print(f\"M3 MSE on TRAIN: {MSE_M3_train:.2f}\")                                    \n",
    "\n",
    "\n",
    "# See markdown cell below for answers and comments "
   ]
  },
  {
   "cell_type": "markdown",
   "metadata": {},
   "source": [
    "## Exercise 9 comments\n",
    "\n",
    "### If we consider the fact that M3 has a smaller MSE in test than in training, and M3 MSE (both train and test) is overall small (<1), M3 generalizes very well. \n",
    "\n",
    "### Based on MSE on test (and in comparison with train), M2 (given by W = (1, 2)') generalizes better in the sense that M2's test loss is the smallest (0.33), only slightly larger than train loss (0.29). But M3 from gradient descent comes as a close second with test MSE 0.99."
   ]
  },
  {
   "cell_type": "markdown",
   "metadata": {},
   "source": [
    "----\n",
    "#### <span style=\"color:chocolate\">Additional practice question</span> (not graded)"
   ]
  },
  {
   "cell_type": "markdown",
   "metadata": {},
   "source": [
    "1. How does stochastic gradient descent (SGD) differ from the gradient descent (GD) approach implemented in Exercise 5?\n",
    "2. Determine the optimal weights for model $M_3(x)$ using SGD. Does SGD converge more rapidly? Explain the reasons for your answer."
   ]
  },
  {
   "cell_type": "code",
   "execution_count": 15,
   "metadata": {},
   "outputs": [],
   "source": [
    "# YOUR ANSWER HERE\n",
    "# 1. SGD compute gradient (n by 1) using just 1 (as opposed to m) examples.\n",
    "# To implement SGD, one method is to use the one-example deriviation in the helper file \n",
    "# instead of the matrix-form gradient.\n",
    "\n",
    "# Another method is to randomly choose one row of the input matrix and also the same row of the Y vector\n",
    "# It seems that SGD converges more rapidly. "
   ]
  },
  {
   "cell_type": "code",
   "execution_count": 16,
   "metadata": {},
   "outputs": [],
   "source": [
    "# YOUR CODE HERE\n",
    "\n",
    "# Implement a stochastic gradient descent function\n",
    "def stochastic_gradient_descent(inputs, outputs, learning_rate, num_epochs):\n",
    "  \"\"\"Apply the gradient descent algorithm to learn learn linear regression.\n",
    "\n",
    "  Args:\n",
    "    inputs: A 2-D array where each column is an input feature and each\n",
    "            row is a training example.\n",
    "    outputs: A 1-D array containing the real-valued\n",
    "             label corresponding to the input data in the same row.\n",
    "    learning_rate: The learning rate to use for updates.\n",
    "    num_epochs: The number of passes through the full training data.\n",
    "\n",
    "  Returns:\n",
    "    weights: A 2-D array with the learned weights after each training epoch.\n",
    "    losses: A 1-D array with the loss after each epoch.\n",
    "  \"\"\"\n",
    "  # m = number of examples, n = number of features\n",
    "  m, n = inputs.shape\n",
    "  \n",
    "  # We'll use a vector of size n to store the learned weights and initialize\n",
    "  # all weights to 1. \n",
    "  W = np.ones(n)\n",
    "  \n",
    "  # Keep track of the training loss and weights after each step.\n",
    "  losses = []\n",
    "  weights = []\n",
    "  \n",
    "  for epoch in range(num_epochs):\n",
    "    # Append the old weights to the weights list to keep track of them.\n",
    "    weights.append(W)\n",
    "\n",
    "    # Evaluate the current predictions for the training examples given\n",
    "    # the current estimate of W. \n",
    "    predictions = model_prediction(inputs, W)\n",
    "    \n",
    "    # Find the difference between the predictions and the actual target\n",
    "    # values.\n",
    "    diff = predictions - outputs\n",
    "    \n",
    "    # In standard linear regression, we want to minimize the sum of squared\n",
    "    # differences. Compute the mean squared error loss. Don't bother with the\n",
    "    # 1/2 scaling factor here.\n",
    "    loss = (1 / m) * np.square(diff).sum()\n",
    "    # Append the loss to the losses list to keep a track of it.\n",
    "    losses.append(loss)\n",
    "    \n",
    "    # Compute the gradient with respect to the loss.\n",
    "    # [Formula (4) in the Gradient Descent Implementation]\n",
    "\n",
    "    # Here \n",
    "\n",
    "    row_num = np.random.randint(0, inputs.shape[0])\n",
    "    gradient = np.ravel(inputs[row_num,].reshape(-1,1) * (inputs[row_num, ] @ W - outputs[row_num,]))\n",
    "\n",
    "    # Update weights, scaling the gradient by the learning rate.\n",
    "    W = W - learning_rate * gradient\n",
    "      \n",
    "  return np.array(weights), np.array(losses)"
   ]
  },
  {
   "cell_type": "code",
   "execution_count": 17,
   "metadata": {},
   "outputs": [
    {
     "data": {
      "text/plain": [
       "(array([[1.        , 1.        ],\n",
       "        [1.00058907, 1.00117815],\n",
       "        [1.01273669, 1.73003483],\n",
       "        [1.01598964, 1.92846526],\n",
       "        [1.01650527, 1.94651218],\n",
       "        [1.01649872, 1.94644009],\n",
       "        [1.01676916, 1.94968538],\n",
       "        [1.0171588 , 1.96682977],\n",
       "        [1.01735771, 1.96722759],\n",
       "        [1.01788864, 1.99695982],\n",
       "        [1.01775912, 1.99514642],\n",
       "        [1.0179623 , 2.00530564],\n",
       "        [1.01805985, 2.00628114],\n",
       "        [1.01801784, 2.00426444],\n",
       "        [1.01787562, 1.99758022],\n",
       "        [1.01777427, 1.99220883],\n",
       "        [1.01770898, 1.9878345 ],\n",
       "        [1.01760404, 1.9873098 ]]),\n",
       " array([1.66536666e+03, 1.66140837e+03, 1.22179536e+02, 9.01688537e+00,\n",
       "        5.21869174e+00, 5.23172662e+00, 4.66221245e+00, 2.23890725e+00,\n",
       "        2.19381803e+00, 3.48649030e-01, 3.77062823e-01, 3.59026464e-01,\n",
       "        3.75379748e-01, 3.45104165e-01, 3.41460669e-01, 4.46196417e-01,\n",
       "        6.02351759e-01, 6.25454377e-01]))"
      ]
     },
     "execution_count": 17,
     "metadata": {},
     "output_type": "execute_result"
    }
   ],
   "source": [
    "# \n",
    "stochastic_gradient_descent(X_train, Y_train, learning_rate=0.0002, num_epochs=18)"
   ]
  }
 ],
 "metadata": {
  "accelerator": "GPU",
  "colab": {
   "collapsed_sections": [],
   "name": "02 Linear Regression.ipynb",
   "private_outputs": true,
   "provenance": [],
   "toc_visible": true
  },
  "kernelspec": {
   "display_name": "venv",
   "language": "python",
   "name": "python3"
  },
  "language_info": {
   "codemirror_mode": {
    "name": "ipython",
    "version": 3
   },
   "file_extension": ".py",
   "mimetype": "text/x-python",
   "name": "python",
   "nbconvert_exporter": "python",
   "pygments_lexer": "ipython3",
   "version": "3.12.1"
  }
 },
 "nbformat": 4,
 "nbformat_minor": 4
}
