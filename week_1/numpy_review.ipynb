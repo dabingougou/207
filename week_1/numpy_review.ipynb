{
 "cells": [
  {
   "cell_type": "markdown",
   "id": "68d2f193",
   "metadata": {},
   "source": [
    "# Assignment 0"
   ]
  },
  {
   "cell_type": "markdown",
   "id": "231ec299",
   "metadata": {},
   "source": [
    "### <span style=\"color:chocolate\"> Submission requirements </span>\n",
    "\n",
    "Your work will not be graded if your notebook doesn't include output. In other words, <span style=\"color:red\"> make sure to rerun your notebook before submitting to Gradescope </span> (Note: if you are using Google Colab: go to Edit > Notebook Settings  and uncheck Omit code cell output when saving this notebook, otherwise the output is not printed).\n",
    "\n",
    "Additional points may be deducted if these requirements are not met:\n",
    "\n",
    "    \n",
    "* Comment your code;\n",
    "* Each graph should have a title, labels for each axis, and (if needed) a legend. Each graph should be understandable on its own;\n",
    "* Try and minimize the use of the global namespace (meaning, keep things inside functions).\n",
    "---"
   ]
  },
  {
   "cell_type": "markdown",
   "id": "aae36a3a",
   "metadata": {},
   "source": [
    "### Import libraries"
   ]
  },
  {
   "cell_type": "code",
   "execution_count": 1,
   "id": "1d2c9a02",
   "metadata": {},
   "outputs": [],
   "source": [
    "import numpy as np\n",
    "np.random.seed(seed=1)"
   ]
  },
  {
   "cell_type": "markdown",
   "id": "8fb0f91b",
   "metadata": {},
   "source": [
    "---\n",
    "### <span style=\"color:chocolate\">Exercise 1:</span> Homogenous data types (10 points)\n",
    "\n",
    "1. Create a numpy array (my_array1) containing only integer values. Print the shape of the array and the type of its elements;\n",
    "2. Create another numpy array (my_array2) containing a mix of integer and string values. Print the shape of the array and the type of its elements. Comment on the type of its elements."
   ]
  },
  {
   "cell_type": "code",
   "execution_count": 2,
   "id": "49c4add6",
   "metadata": {},
   "outputs": [
    {
     "name": "stdout",
     "output_type": "stream",
     "text": [
      "my_array1 (integer) dimension: (2, 3, 4)\n",
      "my_array1 elements datatype: int64\n",
      "my_array2 shape: (9,)\n",
      "my_array2 elements data type: <U8\n",
      "Please see comment on datatype below in the markdown cell\n"
     ]
    }
   ],
   "source": [
    "# YOUR CODE HERE\n",
    "\n",
    "# Creating the first array of integers\n",
    "my_array1 = np.random.randint(1, 100, size=(2, 3, 4))\n",
    "\n",
    "# Print out shape\n",
    "print(f\"my_array1 (integer) dimension: {my_array1.shape}\")\n",
    "# Print out datatype of the elements\n",
    "print(f\"my_array1 elements datatype: {my_array1.dtype}\")\n",
    "\n",
    "# Create a text with numbers to be converted to a numpy array\n",
    "text = \"I am enrolled in section 1 of DATASCI 207.\"\n",
    "\n",
    "# Convert text to numpy array\n",
    "my_array2 = np.array(text.split())\n",
    "\n",
    "# Print out shape and datatype\n",
    "print(f\"my_array2 shape: {my_array2.shape}\")\n",
    "print(f\"my_array2 elements data type: {my_array2.dtype}\")\n",
    "print(\"Please see comment on datatype below in the markdown cell\")\n"
   ]
  },
  {
   "cell_type": "markdown",
   "id": "c3e9fa9c",
   "metadata": {},
   "source": [
    "### Comment on datatype of my_array2\n",
    "The list (which is then converted to NumPy array) consists of strings and integers. NumPy enforces a uniform/homogeneous datatype for all elements in one array. Hence \"<8\" means the datatype is Unicode less than 8 characters long."
   ]
  },
  {
   "cell_type": "markdown",
   "id": "8becfbd2",
   "metadata": {},
   "source": [
    "---\n",
    "#### <span style=\"color:chocolate\">Exercise 2:</span> The size attribute (10 points)\n",
    "\n",
    "Create a numpy array (my_array3) and print its shape, size, and data type. What does size represent?"
   ]
  },
  {
   "cell_type": "code",
   "execution_count": 3,
   "id": "8733dbc0",
   "metadata": {},
   "outputs": [
    {
     "name": "stdout",
     "output_type": "stream",
     "text": [
      "my_array3 shape: (2, 3, 5)\n",
      "my_array3 size: 30\n",
      "my_array3 elements data type: int64\n",
      "Please see below markdown cell for comment on the size attribute.\n"
     ]
    }
   ],
   "source": [
    "# YOUR CODE HERE\n",
    "\n",
    "# Creating an array of random integers\n",
    "my_array3 = np.random.randint(1, 100, size=(2, 3, 5))\n",
    "\n",
    "# Print out shape, datatype of elements, and size\n",
    "print(f\"my_array3 shape: {my_array3.shape}\")\n",
    "\n",
    "print(f\"my_array3 size: {my_array3.size}\")\n",
    "\n",
    "print(f\"my_array3 elements data type: {my_array3.dtype}\")\n",
    "\n",
    "# the \"size\" attribute\n",
    "print(\"Please see below markdown cell for comment on the size attribute.\")\n"
   ]
  },
  {
   "cell_type": "markdown",
   "id": "3583397f",
   "metadata": {},
   "source": [
    "### Comment on what does the size attribute represent? \n",
    "It represents the **number of elements** of the array, **not the dimension** as I initially thought."
   ]
  },
  {
   "cell_type": "markdown",
   "id": "89731f88",
   "metadata": {},
   "source": [
    "---\n",
    "#### <span style=\"color:chocolate\">Exercise 3:</span> Tabular data layout (10 points)"
   ]
  },
  {
   "cell_type": "markdown",
   "id": "89c8c4d9",
   "metadata": {},
   "source": [
    "Create a tabular data layout using the numpy method <span style=\"color:chocolate\">np.random.random()</span>, where:\n",
    "* the first input is num_samples, and\n",
    "* the second input is num_features. \n",
    "\n",
    "Print the shape of the array."
   ]
  },
  {
   "cell_type": "code",
   "execution_count": 4,
   "id": "dcabc0b0",
   "metadata": {},
   "outputs": [
    {
     "name": "stdout",
     "output_type": "stream",
     "text": [
      "The dimension is: 2-d with number of rows and cols given by (100, 17).\n"
     ]
    }
   ],
   "source": [
    "# already defined first and second inputs\n",
    "num_samples = 100\n",
    "num_features = 17\n",
    "\n",
    "# YOUR CODE HERE\n",
    "tabular_data = np.random.random(size=(num_samples, num_features))\n",
    "\n",
    "# Print out shape\n",
    "print(f\"The dimension is: 2-d with number of rows and cols given by {tabular_data.shape}.\")\n"
   ]
  },
  {
   "cell_type": "markdown",
   "id": "9ea1e400",
   "metadata": {},
   "source": [
    "---\n",
    "#### <span style=\"color:chocolate\">Exercise 4:</span> Image data layout (10 points)"
   ]
  },
  {
   "cell_type": "markdown",
   "id": "7c5b220a",
   "metadata": {},
   "source": [
    "Create an image data layout using the numpy method <span style=\"color:chocolate\">np.random.random()</span>, where:\n",
    "\n",
    "* the first input is num_images;\n",
    "* the second input is num_rows;\n",
    "* the third input is num_cols;\n",
    "* the fourth input is num_channels.\n",
    "\n",
    "Print the shape of the array."
   ]
  },
  {
   "cell_type": "code",
   "execution_count": 5,
   "id": "9b371f29",
   "metadata": {},
   "outputs": [
    {
     "name": "stdout",
     "output_type": "stream",
     "text": [
      "The shape of the array is: (100, 256, 256, 3)\n"
     ]
    }
   ],
   "source": [
    "# already defined inputs\n",
    "num_images = 100\n",
    "num_rows = 256\n",
    "num_cols = 256\n",
    "num_channels = 3 #(RGB)\n",
    "\n",
    "# YOUR CODE HERE\n",
    "\n",
    "image_arr = np.random.random(size=(num_images, num_rows, num_cols, num_channels))\n",
    "print(f\"The shape of the array is: {image_arr.shape}\")"
   ]
  },
  {
   "cell_type": "markdown",
   "id": "19d7b075",
   "metadata": {},
   "source": [
    "---\n",
    "#### <span style=\"color:chocolate\">Exercise 5: </span>Mathematical operations on numpy arrays (15 points)"
   ]
  },
  {
   "cell_type": "markdown",
   "id": "b88b701f",
   "metadata": {},
   "source": [
    "Create a (3, 2) numpy array (you can name it my_array4) containing only integer values. Perform the following tasks:\n",
    "\n",
    "1. Print the shape of the array;\n",
    "2. Print the sum of all elements (hint: the axis argument is set to None);\n",
    "3. Print the sum of all elements by column;\n",
    "3. Print the sum of all elements by row and change the type of the resulting array elements to float;\n",
    "5. Print the first row of the array;\n",
    "6. Print the second row of the array;\n",
    "7. Select the element at position (1, 0);\n",
    "8. Modify the element at position (2, 1) by setting its value to 10 and print the array again;\n",
    "9. Loop over elements in the array. Print the output."
   ]
  },
  {
   "cell_type": "code",
   "execution_count": 6,
   "id": "5efe6c22",
   "metadata": {},
   "outputs": [
    {
     "name": "stdout",
     "output_type": "stream",
     "text": [
      "Print out a 3-by-2 integer array\n",
      "[[4 5]\n",
      " [3 1]\n",
      " [1 0]]\n",
      "**************************************************\n",
      "Print-outs for my_array4\n",
      "**************************************************\n",
      "Shape: (3, 2)\n",
      "**************************************************\n",
      "Sum of all elements: 14\n",
      "**************************************************\n",
      "Sum by column (summing row values for each col): [8 6]\n",
      "**************************************************\n",
      "Sum by row (summing col values for each row)\n",
      " and convert to floats: [9. 4. 1.]\n",
      "**************************************************\n",
      "First row of my_array4: [4 5]\n",
      "**************************************************\n",
      "Second row of my_array4: [3 1]\n",
      "**************************************************\n",
      "Position (1, 0) -- second row and first col: 3\n",
      "**************************************************\n",
      "Print out the modified my_array4: \n",
      "[[ 4  5]\n",
      " [ 3  1]\n",
      " [ 1 10]]\n",
      "**************************************************\n",
      "Print out all elements by loops\n",
      "The element at row 0 col 0: 4\n",
      "The element at row 0 col 1: 5\n",
      "The element at row 1 col 0: 3\n",
      "The element at row 1 col 1: 1\n",
      "The element at row 2 col 0: 1\n",
      "The element at row 2 col 1: 10\n"
     ]
    }
   ],
   "source": [
    "# YOUR CODE HERE\n",
    "# Creating the array\n",
    "my_array4 = np.random.randint(0, 6, size=(3, 2))\n",
    "print(\"Print out a 3-by-2 integer array\")\n",
    "print(my_array4)\n",
    "\n",
    "# Header for print-outs\n",
    "print(50*\"*\")\n",
    "print(\"Print-outs for my_array4\")\n",
    "\n",
    "# Shape\n",
    "print(50*\"*\")\n",
    "print(f\"Shape: {my_array4.shape}\")\n",
    "\n",
    "# Sum of all elements\n",
    "print(50*\"*\")\n",
    "print(f\"Sum of all elements: {my_array4.sum(axis=None)}\")\n",
    "\n",
    "# Sum by col\n",
    "print(50*\"*\")\n",
    "print(f\"Sum by column (summing row values for each col): {my_array4.sum(axis=0)}\")\n",
    "\n",
    "# Sum by row\n",
    "print(50*\"*\")\n",
    "print(f\"Sum by row (summing col values for each row)\\n and convert to floats: {my_array4.sum(axis=1).astype(float)}\")\n",
    "\n",
    "# Slice out first row\n",
    "print(50*\"*\")\n",
    "print(f\"First row of my_array4: {my_array4[0,]}\")\n",
    "\n",
    "# Slice out second row (without comma)\n",
    "print(50*\"*\")\n",
    "print(f\"Second row of my_array4: {my_array4[1]}\")\n",
    "\n",
    "# Slice the element at row 2 col 1 (position (1, 0))\n",
    "print(50*\"*\")\n",
    "print(f\"Position (1, 0) -- second row and first col: {my_array4[1, 0]}\")\n",
    "\n",
    "# Change the element at row 3 col 2 (position (2, 1))\n",
    "print(50*\"*\")\n",
    "my_array4[2, 1] = 10\n",
    "print(f\"Print out the modified my_array4: \\n{my_array4}\")\n",
    "\n",
    "# Print out all elements in a nested loop\n",
    "print(50*\"*\")\n",
    "print(\"Print out all elements by loops\")\n",
    "for row in range(my_array4.shape[0]):\n",
    "    for col in range(my_array4.shape[1]):\n",
    "        print(f\"The element at row {row} col {col}: {my_array4[row, col]}\")"
   ]
  },
  {
   "cell_type": "markdown",
   "id": "7a7e249a",
   "metadata": {},
   "source": [
    "You can find more examples here: https://numpy.org/doc/stable/reference/routines.math.html"
   ]
  },
  {
   "cell_type": "markdown",
   "id": "7f71edb9",
   "metadata": {},
   "source": [
    "---\n",
    "#### <span style=\"color:chocolate\">Exercise 6:</span> Create arrays (15 points)\n",
    "\n",
    "1. Create and print a (3,2) numpy array of pixel values between 0 and 1.\n",
    "2. Create and print a (27,) numpy array representing years from 1991 to 2017\n",
    "3. Create and print a (3, 5, 10) numpy array of zeros\n",
    "4. Create and print a (3, 5, 10) numpy array of ones\n",
    "5. Create and print an array with a constant value (let's say 5) using np.ones()\n",
    "6. Create and print an array with random numbers drawn from a normal distribution with mean 0 and standard deviation 1. Set the sample size to 10.\n"
   ]
  },
  {
   "cell_type": "code",
   "execution_count": 7,
   "id": "b1bf53cb",
   "metadata": {},
   "outputs": [
    {
     "name": "stdout",
     "output_type": "stream",
     "text": [
      "3 by 2 pixel array:\n",
      " [[0.10084977 0.74242288]\n",
      " [0.14053669 0.91298156]\n",
      " [0.94157853 0.23588587]]\n",
      "**************************************************\n",
      "years_arr:\n",
      " [1991 1992 1993 1994 1995 1996 1997 1998 1999 2000 2001 2002 2003 2004\n",
      " 2005 2006 2007 2008 2009 2010 2011 2012 2013 2014 2015 2016 2017]\n",
      "**************************************************\n",
      "zeros_arr:\n",
      " [[[0. 0. 0. 0. 0. 0. 0. 0. 0. 0.]\n",
      "  [0. 0. 0. 0. 0. 0. 0. 0. 0. 0.]\n",
      "  [0. 0. 0. 0. 0. 0. 0. 0. 0. 0.]\n",
      "  [0. 0. 0. 0. 0. 0. 0. 0. 0. 0.]\n",
      "  [0. 0. 0. 0. 0. 0. 0. 0. 0. 0.]]\n",
      "\n",
      " [[0. 0. 0. 0. 0. 0. 0. 0. 0. 0.]\n",
      "  [0. 0. 0. 0. 0. 0. 0. 0. 0. 0.]\n",
      "  [0. 0. 0. 0. 0. 0. 0. 0. 0. 0.]\n",
      "  [0. 0. 0. 0. 0. 0. 0. 0. 0. 0.]\n",
      "  [0. 0. 0. 0. 0. 0. 0. 0. 0. 0.]]\n",
      "\n",
      " [[0. 0. 0. 0. 0. 0. 0. 0. 0. 0.]\n",
      "  [0. 0. 0. 0. 0. 0. 0. 0. 0. 0.]\n",
      "  [0. 0. 0. 0. 0. 0. 0. 0. 0. 0.]\n",
      "  [0. 0. 0. 0. 0. 0. 0. 0. 0. 0.]\n",
      "  [0. 0. 0. 0. 0. 0. 0. 0. 0. 0.]]]\n",
      "**************************************************\n",
      "ones_arr:\n",
      " [[[1. 1. 1. 1. 1. 1. 1. 1. 1. 1.]\n",
      "  [1. 1. 1. 1. 1. 1. 1. 1. 1. 1.]\n",
      "  [1. 1. 1. 1. 1. 1. 1. 1. 1. 1.]\n",
      "  [1. 1. 1. 1. 1. 1. 1. 1. 1. 1.]\n",
      "  [1. 1. 1. 1. 1. 1. 1. 1. 1. 1.]]\n",
      "\n",
      " [[1. 1. 1. 1. 1. 1. 1. 1. 1. 1.]\n",
      "  [1. 1. 1. 1. 1. 1. 1. 1. 1. 1.]\n",
      "  [1. 1. 1. 1. 1. 1. 1. 1. 1. 1.]\n",
      "  [1. 1. 1. 1. 1. 1. 1. 1. 1. 1.]\n",
      "  [1. 1. 1. 1. 1. 1. 1. 1. 1. 1.]]\n",
      "\n",
      " [[1. 1. 1. 1. 1. 1. 1. 1. 1. 1.]\n",
      "  [1. 1. 1. 1. 1. 1. 1. 1. 1. 1.]\n",
      "  [1. 1. 1. 1. 1. 1. 1. 1. 1. 1.]\n",
      "  [1. 1. 1. 1. 1. 1. 1. 1. 1. 1.]\n",
      "  [1. 1. 1. 1. 1. 1. 1. 1. 1. 1.]]]\n",
      "**************************************************\n",
      "Array of constants:\n",
      " [[5. 5. 5. 5.]\n",
      " [5. 5. 5. 5.]]\n",
      "**************************************************\n",
      "10-sample from standard normal:\n",
      " [-0.26709231 -0.36961928 -0.8411162  -0.13426113 -0.30287712 -1.94797353\n",
      "  0.54984962  0.42213851  1.033578   -1.08460646]\n"
     ]
    }
   ],
   "source": [
    "# YOUR CODE HERE\n",
    "\n",
    "# Create a (3, 2) np array\n",
    "pixel_arr = np.random.random(size=(3, 2))\n",
    "print(\"3 by 2 pixel array:\\n\", pixel_arr)\n",
    "\n",
    "# Create (27,) numpy array representing years\n",
    "print(50*\"*\")\n",
    "years_arr = np.array([year for year in range(1991, 2018, 1)])\n",
    "print(\"years_arr:\\n\", years_arr)\n",
    "\n",
    "# Create (3, 5, 10) array of zeros\n",
    "print(50*\"*\")\n",
    "zeros_arr = np.zeros(shape=(3, 5, 10))\n",
    "print(\"zeros_arr:\\n\", zeros_arr)\n",
    "\n",
    "# Create (3, 5, 10) ones\n",
    "print(50*\"*\")\n",
    "ones_arr = np.ones(shape=(3, 5, 10))\n",
    "print(\"ones_arr:\\n\", ones_arr)\n",
    "\n",
    "# Create a constant array using np.ones()\n",
    "print(50*\"*\")\n",
    "constant_arr = 5 * np.ones(shape=(2, 4))\n",
    "print(\"Array of constants:\\n\", constant_arr)\n",
    "\n",
    "# Create a normal 10-sample\n",
    "print(50*\"*\")\n",
    "nsample_arr = np.random.randn(10)\n",
    "print(\"10-sample from standard normal:\\n\", nsample_arr)"
   ]
  },
  {
   "cell_type": "markdown",
   "id": "4fd05963",
   "metadata": {},
   "source": [
    "---\n",
    "#### <span style=\"color:chocolate\">Exercise 7:</span> Reshape arrays (10 points)"
   ]
  },
  {
   "cell_type": "markdown",
   "id": "e139e4eb",
   "metadata": {},
   "source": [
    "Consider the following array:"
   ]
  },
  {
   "cell_type": "code",
   "execution_count": 8,
   "id": "a5a192dc",
   "metadata": {},
   "outputs": [
    {
     "name": "stdout",
     "output_type": "stream",
     "text": [
      "(27,)\n"
     ]
    }
   ],
   "source": [
    "years = np.arange(1991, 2018, 1)\n",
    "print(years.shape)"
   ]
  },
  {
   "cell_type": "markdown",
   "id": "d3255640",
   "metadata": {},
   "source": [
    "Perform the following operations on this array:\n",
    "    \n",
    "1. Create 3 nested arrays, each of size (3, 3). Call this array years_3d;\n",
    "2. Convert the years_3d array to a flat 1D array. Call this array years_1d;\n",
    "3. Add a new axis (in front) to the years_1d array. Call this array years_2d;\n",
    "4. Remove the first axis from years_2d array. Call this array years_1d.\n",
    "\n",
    "For each exercise print the array and its shape."
   ]
  },
  {
   "cell_type": "code",
   "execution_count": 9,
   "id": "ab18878a",
   "metadata": {},
   "outputs": [
    {
     "name": "stdout",
     "output_type": "stream",
     "text": [
      "Task 1, years_3d:\n",
      "Shape: (3, 3, 3)\n",
      "[[[1991 1992 1993]\n",
      "  [1994 1995 1996]\n",
      "  [1997 1998 1999]]\n",
      "\n",
      " [[2000 2001 2002]\n",
      "  [2003 2004 2005]\n",
      "  [2006 2007 2008]]\n",
      "\n",
      " [[2009 2010 2011]\n",
      "  [2012 2013 2014]\n",
      "  [2015 2016 2017]]]\n",
      "**************************************************\n",
      "Task 2, years_1d:\n",
      "Shape: (27,)\n",
      "[1991 1992 1993 1994 1995 1996 1997 1998 1999 2000 2001 2002 2003 2004\n",
      " 2005 2006 2007 2008 2009 2010 2011 2012 2013 2014 2015 2016 2017]\n",
      "**************************************************\n",
      "Task 3, years_2d\n",
      "Shape: (1, 27)\n",
      "[[1991 1992 1993 1994 1995 1996 1997 1998 1999 2000 2001 2002 2003 2004\n",
      "  2005 2006 2007 2008 2009 2010 2011 2012 2013 2014 2015 2016 2017]]\n",
      "**************************************************\n",
      "Task 4, back to years_1d:\n",
      "Shape: (27,)\n",
      "[1991 1992 1993 1994 1995 1996 1997 1998 1999 2000 2001 2002 2003 2004\n",
      " 2005 2006 2007 2008 2009 2010 2011 2012 2013 2014 2015 2016 2017]\n"
     ]
    }
   ],
   "source": [
    "# YOUR CODE HERE\n",
    "\n",
    "# Task 1\n",
    "print(\"Task 1, years_3d:\")\n",
    "years_3d = years.reshape(3, 3, 3)\n",
    "print(\"Shape:\", years_3d.shape)\n",
    "print(years_3d)\n",
    "\n",
    "# Task 2\n",
    "print(50*\"*\")\n",
    "print(\"Task 2, years_1d:\")\n",
    "years_1d = years_3d.reshape((27,))\n",
    "print(\"Shape:\", years_1d.shape)\n",
    "print(years_1d)\n",
    "\n",
    "# Task 3\n",
    "print(50*\"*\")\n",
    "print(\"Task 3, years_2d\")\n",
    "years_2d = years_1d.reshape(1, -1)\n",
    "print(\"Shape:\", years_2d.shape)\n",
    "print(years_2d)\n",
    "\n",
    "# Task 4\n",
    "print(50*\"*\")\n",
    "print(\"Task 4, back to years_1d:\")\n",
    "years_1d = years_2d.reshape(-1)\n",
    "print(\"Shape:\", years_1d.shape)\n",
    "print(years_1d)"
   ]
  },
  {
   "cell_type": "markdown",
   "id": "6a3a4011",
   "metadata": {},
   "source": [
    "---\n",
    "#### <span style=\"color:chocolate\">Exercise 8:</span> Joining arrays (10 points)"
   ]
  },
  {
   "cell_type": "markdown",
   "id": "5382a84a",
   "metadata": {},
   "source": [
    "Provide 8 examples that use the methods <span style=\"color:cornflowerBlue\">np.concatenate()</span> and <span style=\"color:cornflowerBlue\">np.stack()</span>. Note: create 4 examples using each method."
   ]
  },
  {
   "cell_type": "code",
   "execution_count": 10,
   "id": "a9c2ff1a",
   "metadata": {},
   "outputs": [
    {
     "name": "stdout",
     "output_type": "stream",
     "text": [
      "**************************************************\n",
      "Concat 1: concat [1 2] and [4 6] along axis 0\n",
      "[1 2 4 6]\n",
      "Shape: (4,)\n",
      "**************************************************\n",
      "Concat 2: concat [[100 200 300]\n",
      " [400 500 600]] and [[ 7]\n",
      " [11]] along axis 1\n",
      "[[100 200 300   7]\n",
      " [400 500 600  11]]\n",
      "Shape: (2, 4)\n",
      "**************************************************\n",
      "Concat 3: concat [[ 7]\n",
      " [11]] and [[13]\n",
      " [17]] along axis 0\n",
      "[[ 7]\n",
      " [11]\n",
      " [13]\n",
      " [17]]\n",
      "Shape: (4, 1)\n",
      "**************************************************\n",
      "Concat 4 (mix): \n",
      "First STACK [1 2] and [4 6] along axis 0, then CONCAT with [[ 7]\n",
      " [11]]\n",
      "[[ 1  2  7]\n",
      " [ 4  6 11]]\n",
      "Shape: (2, 3)\n",
      "**************************************************\n",
      "**************************************************\n",
      "Stack 1: stacking [1 2] and [4 6] along axis 0\n",
      "[[1 2]\n",
      " [4 6]]\n",
      "Shape: (2, 2)\n",
      "**************************************************\n",
      "Stack 2: stacking [1 2] and [4 6] along axis 1\n",
      "Note that here I am stacking two 1-d array along a NEW axis.\n",
      "[[1 4]\n",
      " [2 6]]\n",
      "Shape: (2, 2)\n",
      "**************************************************\n",
      "Stack 3: stacking [[3 5]] and [[3 5]] along axis 0\n",
      "Note that here I am stacking two 1-d array along a NEW axis ON THE LEFT.\n",
      "[[[3 5]]\n",
      "\n",
      " [[3 5]]]\n",
      "Shape: (2, 1, 2)\n",
      "**************************************************\n",
      "Stack 4: stacking [[3 5]] and [[3 5]] along axis 2 - thereby creating a third dimension\n",
      "[[[3 3]\n",
      "  [5 5]]]\n",
      "Shape: (1, 2, 2)\n"
     ]
    }
   ],
   "source": [
    "# YOUR CODE HERE\n",
    "\n",
    "# First create some arrays to be used in the 8 examples\n",
    "one_d_1 = np.array([1, 2])\n",
    "one_d_2 = np.array([4, 6])\n",
    "two_by_one_1 = np.array([[7], [11]])\n",
    "two_by_one_2 = np.array([[13], [17]])\n",
    "\n",
    "one_by_two = np.array([[3, 5]])\n",
    "two_by_three = np.array([[100, 200, 300], [400, 500, 600]])\n",
    "\n",
    "\n",
    "# Example 1 Simple concat of 1-d array\n",
    "print(50*\"*\")\n",
    "print(f\"Concat 1: concat {one_d_1} and {one_d_2} along axis 0\")\n",
    "print(np.concatenate((one_d_1, one_d_2), axis=0))\n",
    "print(\"Shape:\", np.concatenate((one_d_1, one_d_2), axis=0).shape)\n",
    "\n",
    "# Example 2 concat of arrays of different size (only differ in the axis in which they are concatenated)\n",
    "print(50*\"*\")\n",
    "print(f\"Concat 2: concat {two_by_three} and {two_by_one_1} along axis 1\")\n",
    "print(np.concatenate((two_by_three, two_by_one_1), axis=1))\n",
    "print(\"Shape:\", np.concatenate((two_by_three, two_by_one_1), axis=1).shape)\n",
    "\n",
    "# Example 3 concat of two two-by-one arrays along axis 0 - pile up\n",
    "print(50*\"*\")\n",
    "print(f\"Concat 3: concat {two_by_one_1} and {two_by_one_2} along axis 0\")\n",
    "print(np.concatenate((two_by_one_1, two_by_one_2), axis=0))\n",
    "print(\"Shape:\", np.concatenate((two_by_one_1, two_by_one_2), axis=0).shape)\n",
    "\n",
    "\n",
    "# Example 4 mixed - first stack two arrays, then concat the result with another array\n",
    "print(50*\"*\")\n",
    "print(\"Concat 4 (mix): \")\n",
    "print(f\"First STACK {one_d_1} and {one_d_2} along axis 0, then CONCAT with {two_by_one_1}\")\n",
    "print(np.concatenate(((np.stack((one_d_1, one_d_2), axis=0)), two_by_one_1), axis=1))\n",
    "print(\"Shape:\", np.concatenate(((np.stack((one_d_1, one_d_2), axis=0)), two_by_one_1), axis=1).shape)\n",
    "\n",
    "######\n",
    "######\n",
    "\n",
    "# Example 5 simple stack\n",
    "print(50*\"*\")\n",
    "print(50*\"*\")\n",
    "print(f\"Stack 1: stacking {one_d_1} and {one_d_2} along axis 0\")\n",
    "print(np.stack((one_d_1, one_d_2), axis=0))\n",
    "print(\"Shape:\", np.stack((one_d_1, one_d_2), axis=0).shape)\n",
    "\n",
    "# Example 6 insert new axis on the right\n",
    "print(50*\"*\")\n",
    "print(f\"Stack 2: stacking {one_d_1} and {one_d_2} along axis 1\")\n",
    "print(\"Note that here I am stacking two 1-d array along a NEW axis.\")\n",
    "print(np.stack((one_d_1, one_d_2), axis=1))\n",
    "print(\"Shape:\", np.stack((one_d_1, one_d_2), axis=1).shape)\n",
    "\n",
    "# Example 7 Stacking the same array\n",
    "print(50*\"*\")\n",
    "print(f\"Stack 3: stacking {one_by_two} and {one_by_two} along axis 0\")\n",
    "print(\"Note that here I am stacking two 1-d array along a NEW axis ON THE LEFT.\")\n",
    "print(np.stack((one_by_two, one_by_two), axis=0))\n",
    "print(\"Shape:\", np.stack((one_by_two, one_by_two), axis=0).shape)\n",
    "\n",
    "# Example 8\n",
    "print(50*\"*\")\n",
    "print(f\"Stack 4: stacking {one_by_two} and {one_by_two} along axis 2 - thereby creating a third dimension\")\n",
    "#print(\"Note that here I am stacking two 1-d array along a NEW axis.\")\n",
    "print(np.stack((one_by_two, one_by_two), axis=2))\n",
    "print(\"Shape:\", np.stack((one_by_two, one_by_two), axis=2).shape)\n"
   ]
  },
  {
   "cell_type": "markdown",
   "id": "7780b5b8",
   "metadata": {},
   "source": [
    "---\n",
    "#### <span style=\"color:chocolate\">Numpy broadcasting</span> "
   ]
  },
  {
   "cell_type": "markdown",
   "id": "d105a999",
   "metadata": {},
   "source": [
    "The term broadcasting describes how NumPy treats arrays during arithmetic operations. You can find more here:  https://numpy.org/doc/stable/user/basics.broadcasting.html"
   ]
  },
  {
   "cell_type": "code",
   "execution_count": 11,
   "id": "ce9ca817",
   "metadata": {},
   "outputs": [
    {
     "data": {
      "text/plain": [
       "array([1991, 1992, 1993, 1994, 1995, 1996, 1997, 1998, 1999, 2000, 2001,\n",
       "       2002, 2003, 2004, 2005, 2006, 2007, 2008, 2009, 2010, 2011, 2012,\n",
       "       2013, 2014, 2015, 2016, 2017])"
      ]
     },
     "execution_count": 11,
     "metadata": {},
     "output_type": "execute_result"
    }
   ],
   "source": [
    "# multiplying an array with a scalar\n",
    "years = np.arange(1991, 2018, 1)\n",
    "years * 1"
   ]
  },
  {
   "cell_type": "code",
   "execution_count": 12,
   "id": "d2150eb6",
   "metadata": {},
   "outputs": [
    {
     "data": {
      "text/plain": [
       "array([1993, 1994, 1995, 1996, 1997, 1998, 1999, 2000, 2001, 2002, 2003,\n",
       "       2004, 2005, 2006, 2007, 2008, 2009, 2010, 2011, 2012, 2013, 2014,\n",
       "       2015, 2016, 2017, 2018, 2019])"
      ]
     },
     "execution_count": 12,
     "metadata": {},
     "output_type": "execute_result"
    }
   ],
   "source": [
    "# adding a scalar\n",
    "years + 2"
   ]
  },
  {
   "cell_type": "code",
   "execution_count": 13,
   "id": "d7319a34",
   "metadata": {},
   "outputs": [
    {
     "name": "stdout",
     "output_type": "stream",
     "text": [
      "Array a: [0 1 2]\n",
      "Array b: [0 1 2]\n",
      "Sum of a and b: [0 2 4]\n"
     ]
    }
   ],
   "source": [
    "# many arithmetic operations are applied element wise on a pair of arrays\n",
    "a = np.arange(3)\n",
    "print('Array a:', a)\n",
    "b = np.arange(3)\n",
    "print('Array b:', b)\n",
    "print('Sum of a and b:', a+b)"
   ]
  },
  {
   "cell_type": "code",
   "execution_count": 14,
   "id": "44ac94cd",
   "metadata": {},
   "outputs": [
    {
     "name": "stdout",
     "output_type": "stream",
     "text": [
      "Array a: [[1. 1. 1.]\n",
      " [1. 1. 1.]\n",
      " [1. 1. 1.]]\n",
      "\n",
      "Array b: [0 1 2]\n",
      "\n",
      "Sum of a and b: [[1. 2. 3.]\n",
      " [1. 2. 3.]\n",
      " [1. 2. 3.]]\n"
     ]
    }
   ],
   "source": [
    "# another example\n",
    "a = np.ones((3, 3))\n",
    "print('Array a:', a)\n",
    "b = np.arange(3)\n",
    "print('\\nArray b:', b)\n",
    "print('\\nSum of a and b:', a+b)"
   ]
  },
  {
   "cell_type": "markdown",
   "id": "85e7d3c8",
   "metadata": {},
   "source": [
    "---\n",
    "#### <span style=\"color:chocolate\">Exercise 9:</span> Numpy array standardization (10 points)"
   ]
  },
  {
   "cell_type": "markdown",
   "id": "9bccc9d7",
   "metadata": {},
   "source": [
    "Consider the following (10, 4) array:"
   ]
  },
  {
   "cell_type": "code",
   "execution_count": 15,
   "id": "02a2102e",
   "metadata": {},
   "outputs": [
    {
     "name": "stdout",
     "output_type": "stream",
     "text": [
      "my_array shape:  (10, 4)\n"
     ]
    },
    {
     "data": {
      "text/plain": [
       "array([[0.08368618, 0.88018825, 0.04493259, 0.19677207],\n",
       "       [0.38641006, 0.7924523 , 0.83026932, 0.52744027],\n",
       "       [0.43324002, 0.32505719, 0.90160506, 0.97803112],\n",
       "       [0.02535133, 0.61968638, 0.18608397, 0.5568769 ],\n",
       "       [0.49198251, 0.35157804, 0.9148281 , 0.54715167],\n",
       "       [0.64938821, 0.0883671 , 0.3285821 , 0.4128847 ],\n",
       "       [0.41640329, 0.48054915, 0.61344155, 0.93495809],\n",
       "       [0.31005036, 0.52894759, 0.00261089, 0.48046996],\n",
       "       [0.05477829, 0.37005834, 0.1784386 , 0.23647096],\n",
       "       [0.24407468, 0.01520346, 0.73229583, 0.21794808]])"
      ]
     },
     "execution_count": 15,
     "metadata": {},
     "output_type": "execute_result"
    }
   ],
   "source": [
    "my_array = np.random.random((10, 4))\n",
    "print('my_array shape: ', my_array.shape)\n",
    "my_array"
   ]
  },
  {
   "cell_type": "markdown",
   "id": "c505935d",
   "metadata": {},
   "source": [
    "Peform the following operations on this array:\n",
    "1. Compute and print the mean and std for each column (note: set keepdims=True for proper broadcasting).\n",
    "2. Standardize and print the array and its shape using the mean and std you computed above."
   ]
  },
  {
   "cell_type": "code",
   "execution_count": 16,
   "id": "5a88c63d",
   "metadata": {},
   "outputs": [
    {
     "name": "stdout",
     "output_type": "stream",
     "text": [
      "**************************************************\n",
      "Shape, mean: (1, 4)\n",
      "Shape, std: (1, 4)\n",
      "Mean of each col:\n",
      " [[0.30953649 0.44520878 0.4733088  0.50890038]]\n",
      "Std of each col:\n",
      " [[0.19554416 0.26259856 0.34466858 0.25923732]]\n",
      "**************************************************\n",
      "Standardized array:\n",
      " [[-1.15498366  1.65644271 -1.24286412 -1.20402539]\n",
      " [ 0.39312637  1.32233598  1.03566306  0.07151706]\n",
      " [ 0.63261172 -0.45754855  1.24263213  1.80965743]\n",
      " [-1.45330429  0.66442711 -0.83333626  0.18506794]\n",
      " [ 0.93301695 -0.35655465  1.28099665  0.14755317]\n",
      " [ 1.73797938 -1.35888666 -0.41990107 -0.37037755]\n",
      " [ 0.54650979  0.13457944  0.40657245  1.64350453]\n",
      " [ 0.0026279   0.31888525 -1.36565365 -0.10966947]\n",
      " [-1.30281673 -0.28617994 -0.85551808 -1.05088813]\n",
      " [-0.33476742 -1.63750069  0.75140888 -1.12233959]]\n",
      "Shape: (10, 4)\n"
     ]
    }
   ],
   "source": [
    "# YOUR CODE HERE\n",
    "\n",
    "# Compute mean and std for each col (axis=0), keeping the (1, 4) shape\n",
    "col_mean_arr = my_array.mean(axis=0, keepdims=True)\n",
    "col_std_arr = my_array.std(axis=0, keepdims=True)\n",
    "\n",
    "print(50*\"*\")\n",
    "print(\"Shape, mean:\", col_mean_arr.shape)\n",
    "print(\"Shape, std:\", col_std_arr.shape)\n",
    "print(\"Mean of each col:\\n\", col_mean_arr)\n",
    "print(\"Std of each col:\\n\", col_std_arr)\n",
    "\n",
    "# Remove mean\n",
    "centered_arr = my_array - col_mean_arr\n",
    "\n",
    "# Scale by std\n",
    "centered_scaled_arr = centered_arr / col_std_arr\n",
    "\n",
    "# Print the standardized array and shape\n",
    "\n",
    "print(50*\"*\")\n",
    "print(\"Standardized array:\\n\", centered_scaled_arr)\n",
    "print(\"Shape:\", centered_scaled_arr.shape)\n"
   ]
  },
  {
   "cell_type": "markdown",
   "id": "ebe2eaa0",
   "metadata": {},
   "source": [
    "----\n",
    "#### <span style=\"color:chocolate\">Additional practice question</span> (not graded)"
   ]
  },
  {
   "cell_type": "markdown",
   "id": "d43bdaa7",
   "metadata": {},
   "source": [
    "Consider the following image:"
   ]
  },
  {
   "cell_type": "code",
   "execution_count": 17,
   "id": "e7c61c06",
   "metadata": {},
   "outputs": [
    {
     "name": "stdout",
     "output_type": "stream",
     "text": [
      "[[0.   0.04 0.08 0.12 0.16]\n",
      " [0.2  0.24 0.28 0.32 0.36]\n",
      " [0.4  0.44 0.48 0.52 0.56]\n",
      " [0.6  0.64 0.68 0.72 0.76]\n",
      " [0.8  0.84 0.88 0.92 0.96]]\n"
     ]
    },
    {
     "data": {
      "text/plain": [
       "(5, 5)"
      ]
     },
     "execution_count": 17,
     "metadata": {},
     "output_type": "execute_result"
    }
   ],
   "source": [
    "my_image = np.arange(0, 1, 0.04).reshape(5,5)\n",
    "print(my_image)\n",
    "my_image.shape"
   ]
  },
  {
   "cell_type": "markdown",
   "id": "78f029bd",
   "metadata": {},
   "source": [
    "Perform the following operations on this image (do not overwrite the original image):\n",
    "\n",
    "1. Crop by using a border of size 1;\n",
    "2. Crop by removing:\n",
    "    * the first and the last two rows, and\n",
    "    * the first and the last two columns;\n",
    "3. Reverse the column order;\n",
    "4. set to 0.5 elements divizible by 2."
   ]
  },
  {
   "cell_type": "code",
   "execution_count": 18,
   "id": "d7dadfcf",
   "metadata": {},
   "outputs": [
    {
     "name": "stdout",
     "output_type": "stream",
     "text": [
      "**************************************************\n",
      "Crop margin by 1:\n",
      " [[0.24 0.28 0.32]\n",
      " [0.44 0.48 0.52]\n",
      " [0.64 0.68 0.72]]\n",
      "**************************************************\n",
      "Crop margin by 2:\n",
      " [[0.48]]\n",
      "**************************************************\n",
      "Columns reverted:\n",
      " [[0.16 0.12 0.08 0.04 0.  ]\n",
      " [0.36 0.32 0.28 0.24 0.2 ]\n",
      " [0.56 0.52 0.48 0.44 0.4 ]\n",
      " [0.76 0.72 0.68 0.64 0.6 ]\n",
      " [0.96 0.92 0.88 0.84 0.8 ]]\n",
      "**************************************************\n",
      "Set to 0.5 if divisible by 2:\n",
      " [[0.5  0.04 0.08 0.12 0.16]\n",
      " [0.2  0.24 0.28 0.32 0.36]\n",
      " [0.4  0.44 0.48 0.52 0.56]\n",
      " [0.6  0.64 0.68 0.72 0.76]\n",
      " [0.8  0.84 0.88 0.92 0.96]]\n",
      "Comment: in this particular case only 0 is divisible by 2.\n"
     ]
    }
   ],
   "source": [
    "# YOUR CODE HERE\n",
    "\n",
    "# 1 Crop by using a border of size 1\n",
    "print(50*\"*\")\n",
    "print(\"Crop margin by 1:\\n\", my_image[1:-1, 1:-1])\n",
    "\n",
    "# 2 Crop by using a border of size 2\n",
    "print(50*\"*\")\n",
    "print(\"Crop margin by 2:\\n\", my_image[2:-2, 2:-2])\n",
    "\n",
    "# 3 Reverse the col order\n",
    "print(50*\"*\")\n",
    "print(\"Columns reverted:\\n\", my_image[:,:: -1])\n",
    "\n",
    "# 4 Set to 0.5 using filter\n",
    "print(50*\"*\")\n",
    "#my_image[my_image % 2 == 0] = 0.5\n",
    "my_image2 = my_image.copy()\n",
    "my_image2[my_image % 2 == 0 ] = 0.5\n",
    "print(\"Set to 0.5 if divisible by 2:\\n\", my_image2)\n",
    "print(\"Comment: in this particular case only 0 is divisible by 2.\")\n"
   ]
  }
 ],
 "metadata": {
  "kernelspec": {
   "display_name": "Python 3",
   "language": "python",
   "name": "python3"
  },
  "language_info": {
   "codemirror_mode": {
    "name": "ipython",
    "version": 3
   },
   "file_extension": ".py",
   "mimetype": "text/x-python",
   "name": "python",
   "nbconvert_exporter": "python",
   "pygments_lexer": "ipython3",
   "version": "3.12.1"
  }
 },
 "nbformat": 4,
 "nbformat_minor": 5
}
